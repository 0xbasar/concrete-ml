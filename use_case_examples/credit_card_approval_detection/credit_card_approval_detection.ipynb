{
 "cells": [
  {
   "cell_type": "code",
   "execution_count": 5,
   "metadata": {},
   "outputs": [],
   "source": [
    "import time\n",
    "\n",
    "import numpy as np\n",
    "import pandas as pd\n",
    "from sklearn.metrics import accuracy_score\n",
    "from sklearn.model_selection import train_test_split\n",
    "\n",
    "# from sklearn.linear_model import LogisticRegression as SklearnLogisticRegression\n",
    "from xgboost.sklearn import XGBClassifier as SklearnXGBClassifier\n",
    "\n",
    "from concrete.ml.sklearn import XGBClassifier\n",
    "\n",
    "RANDOM_STATE = 0"
   ]
  },
  {
   "cell_type": "code",
   "execution_count": 6,
   "metadata": {},
   "outputs": [],
   "source": [
    "X_balance = pd.read_csv(\"data/x_balance.csv\", encoding=\"utf-8\")\n",
    "Y_balance = pd.read_csv(\"data/y_balance.csv\", encoding=\"utf-8\").squeeze(axis=1)"
   ]
  },
  {
   "cell_type": "code",
   "execution_count": 7,
   "metadata": {},
   "outputs": [],
   "source": [
    "X_train, X_test, y_train, y_test = train_test_split(\n",
    "    X_balance,\n",
    "    Y_balance,\n",
    "    stratify=Y_balance,\n",
    "    test_size=0.3,\n",
    "    random_state=RANDOM_STATE,\n",
    ")"
   ]
  },
  {
   "cell_type": "code",
   "execution_count": 8,
   "metadata": {},
   "outputs": [],
   "source": [
    "concrete_model = XGBClassifier(n_bits=6, learning_rate=None)\n",
    "concrete_model, sklearn_model = concrete_model.fit_benchmark(X_train, y_train)"
   ]
  },
  {
   "cell_type": "code",
   "execution_count": 5,
   "metadata": {},
   "outputs": [
    {
     "name": "stdout",
     "output_type": "stream",
     "text": [
      "Accuracy score (Scikit-Learn) is 0.9217021850553008\n"
     ]
    }
   ],
   "source": [
    "y_pred_sklearn = sklearn_model.predict(X_test)\n",
    "\n",
    "print(f\"Accuracy score (Scikit-Learn) is {accuracy_score(y_test, y_pred_sklearn)}\")"
   ]
  },
  {
   "cell_type": "code",
   "execution_count": 6,
   "metadata": {},
   "outputs": [
    {
     "data": {
      "text/plain": [
       "<concrete.fhe.compilation.circuit.Circuit at 0x2b93cffd0>"
      ]
     },
     "execution_count": 6,
     "metadata": {},
     "output_type": "execute_result"
    }
   ],
   "source": [
    "concrete_model.compile(X_train)"
   ]
  },
  {
   "cell_type": "code",
   "execution_count": 7,
   "metadata": {},
   "outputs": [
    {
     "name": "stdout",
     "output_type": "stream",
     "text": [
      "Accuracy score (Concrete ML simulation) is 0.9193417858106285\n"
     ]
    }
   ],
   "source": [
    "y_pred_fhe_no_dual = concrete_model.predict(X_test, fhe=\"simulate\")\n",
    "\n",
    "print(f\"Accuracy score (Concrete ML simulation) is {accuracy_score(y_test, y_pred_fhe_no_dual)}\")"
   ]
  },
  {
   "cell_type": "code",
   "execution_count": null,
   "metadata": {},
   "outputs": [
    {
     "name": "stdout",
     "output_type": "stream",
     "text": [
      "FHE execution time per inference: 2.7s\n"
     ]
    }
   ],
   "source": [
    "FHE_SAMPLE = 10\n",
    "\n",
    "concrete_model.fhe_circuit.keygen()\n",
    "\n",
    "start = time.time()\n",
    "concrete_model.predict(X_test[:FHE_SAMPLE], fhe=\"execute\")\n",
    "end = time.time() - start\n",
    "\n",
    "print(f\"FHE execution time per inference: {end / FHE_SAMPLE :.2}s\")"
   ]
  },
  {
   "cell_type": "markdown",
   "metadata": {},
   "source": [
    "# Dual input : 1/30 encrypted feature\n"
   ]
  },
  {
   "cell_type": "code",
   "execution_count": 10,
   "metadata": {},
   "outputs": [],
   "source": [
    "X_train_enc = X_train[\"begin_month\"].to_frame()\n",
    "X_train_clear = X_train.drop(\"begin_month\", axis=1)\n",
    "\n",
    "X_test_enc = X_test[\"begin_month\"].to_frame()\n",
    "X_test_clear = X_test.drop(\"begin_month\", axis=1)"
   ]
  },
  {
   "cell_type": "code",
   "execution_count": 11,
   "metadata": {},
   "outputs": [
    {
     "data": {
      "text/plain": [
       "<concrete.fhe.compilation.circuit.Circuit at 0x2bacd6fe0>"
      ]
     },
     "execution_count": 11,
     "metadata": {},
     "output_type": "execute_result"
    }
   ],
   "source": [
    "inputs_encryption_status = (\"encrypted\", \"clear\")\n",
    "\n",
    "concrete_model.compile(\n",
    "    X_train_enc, X_train_clear, inputs_encryption_status=inputs_encryption_status\n",
    ")"
   ]
  },
  {
   "cell_type": "code",
   "execution_count": 12,
   "metadata": {},
   "outputs": [
    {
     "name": "stdout",
     "output_type": "stream",
     "text": [
      "6\n"
     ]
    }
   ],
   "source": [
    "print(concrete_model.fhe_circuit.graph.maximum_integer_bit_width())"
   ]
  },
  {
   "cell_type": "code",
   "execution_count": 13,
   "metadata": {},
   "outputs": [],
   "source": [
    "concrete_model.fhe_circuit.keygen()"
   ]
  },
  {
   "cell_type": "code",
   "execution_count": 14,
   "metadata": {},
   "outputs": [],
   "source": [
    "def predict_dual_inputs(concrete_model, inputs_enc, inputs_clear, fhe_sample=None, simulate=True):\n",
    "    if isinstance(inputs_enc, (pd.DataFrame, pd.Series)):\n",
    "        inputs_enc = inputs_enc.to_numpy()\n",
    "\n",
    "    if isinstance(inputs_clear, (pd.DataFrame, pd.Series)):\n",
    "        inputs_clear = inputs_clear.to_numpy()\n",
    "\n",
    "    if fhe_sample is None:\n",
    "        fhe_sample = len(inputs_enc)\n",
    "\n",
    "    if not simulate:\n",
    "        concrete_model.fhe_circuit.keygen()\n",
    "\n",
    "    # We create a loop to send the input to the server and receive the encrypted prediction\n",
    "    y_preds = []\n",
    "    execution_times = []\n",
    "    for input_enc, input_clear in zip(inputs_enc[:fhe_sample], inputs_clear[:fhe_sample]):\n",
    "        input_enc, input_clear = np.expand_dims(input_enc, axis=0), np.expand_dims(\n",
    "            input_clear, axis=0\n",
    "        )\n",
    "        q_input_enc, q_input_clear = concrete_model.quantize_input(input_enc, input_clear)\n",
    "\n",
    "        if simulate:\n",
    "            q_y_proba = concrete_model.fhe_circuit.graph(\n",
    "                q_input_enc, q_input_clear, p_error=concrete_model.fhe_circuit.p_error\n",
    "            )\n",
    "        else:\n",
    "            q_input_enc, _ = concrete_model.fhe_circuit.encrypt(q_input_enc, None)\n",
    "            _, q_input_clear = concrete_model.fhe_circuit.encrypt(None, q_input_clear)\n",
    "\n",
    "            start = time.time()\n",
    "            q_y_proba_enc = concrete_model.fhe_circuit.run(q_input_enc, q_input_clear)\n",
    "            end = time.time() - start\n",
    "\n",
    "            execution_times.append(end)\n",
    "\n",
    "            q_y_proba = concrete_model.fhe_circuit.decrypt(q_y_proba_enc)\n",
    "\n",
    "        y_proba = concrete_model.dequantize_output(q_y_proba)\n",
    "\n",
    "        y_proba = concrete_model.post_processing(y_proba)\n",
    "\n",
    "        y_pred = np.argmax(y_proba, axis=1)\n",
    "\n",
    "        y_preds.append(y_pred)\n",
    "\n",
    "    if not simulate:\n",
    "        print(f\"FHE execution time per inference: {np.mean(execution_times) :.2}s\")\n",
    "\n",
    "    return np.array(y_preds)"
   ]
  },
  {
   "cell_type": "code",
   "execution_count": 15,
   "metadata": {},
   "outputs": [
    {
     "name": "stdout",
     "output_type": "stream",
     "text": [
      "Accuracy score (Concrete ML simulation) is 0.9193417858106285\n"
     ]
    }
   ],
   "source": [
    "y_preds_simulated = predict_dual_inputs(concrete_model, X_test_enc, X_test_clear, simulate=True)\n",
    "\n",
    "print(f\"Accuracy score (Concrete ML simulation) is {accuracy_score(y_test, y_preds_simulated)}\")"
   ]
  },
  {
   "cell_type": "code",
   "execution_count": 16,
   "metadata": {},
   "outputs": [
    {
     "name": "stdout",
     "output_type": "stream",
     "text": [
      "FHE execution time per inference: 1.5s\n"
     ]
    }
   ],
   "source": [
    "y_preds_dual = predict_dual_inputs(\n",
    "    concrete_model, X_test_enc, X_test_clear, fhe_sample=10, simulate=False\n",
    ")"
   ]
  },
  {
   "cell_type": "markdown",
   "metadata": {},
   "source": [
    "# Dual input : 29/30 encrypted feature\n"
   ]
  },
  {
   "cell_type": "code",
   "execution_count": null,
   "metadata": {},
   "outputs": [],
   "source": [
    "X_train_clear_1 = X_train[\"begin_month\"].to_frame()\n",
    "X_train_enc_29 = X_train.drop(\"begin_month\", axis=1)\n",
    "\n",
    "X_test_clear_1 = X_test[\"begin_month\"].to_frame()\n",
    "X_test_enc_29 = X_test.drop(\"begin_month\", axis=1)"
   ]
  },
  {
   "cell_type": "code",
   "execution_count": null,
   "metadata": {},
   "outputs": [
    {
     "data": {
      "text/plain": [
       "<concrete.fhe.compilation.circuit.Circuit at 0x2b728cd00>"
      ]
     },
     "execution_count": 7,
     "metadata": {},
     "output_type": "execute_result"
    }
   ],
   "source": [
    "inputs_encryption_status = (\"clear\", \"encrypted\")\n",
    "\n",
    "concrete_model.compile(\n",
    "    X_train_clear_1, X_train_enc_29, inputs_encryption_status=inputs_encryption_status\n",
    ")"
   ]
  },
  {
   "cell_type": "code",
   "execution_count": null,
   "metadata": {},
   "outputs": [
    {
     "name": "stdout",
     "output_type": "stream",
     "text": [
      "Accuracy score (Concrete ML simulation) is 0.8774615592123011\n"
     ]
    }
   ],
   "source": [
    "y_preds_simulated_29 = predict_dual_inputs(\n",
    "    concrete_model, X_test_clear_1, X_test_enc_29, simulate=True\n",
    ")\n",
    "\n",
    "print(f\"Accuracy score (Concrete ML simulation) is {accuracy_score(y_test, y_preds_simulated_29)}\")"
   ]
  },
  {
   "cell_type": "code",
   "execution_count": null,
   "metadata": {},
   "outputs": [
    {
     "name": "stdout",
     "output_type": "stream",
     "text": [
      "FHE execution time per inference: 2.5s\n"
     ]
    }
   ],
   "source": [
    "y_preds_dual_29 = predict_dual_inputs(\n",
    "    concrete_model, X_test_clear_1, X_test_enc_29, fhe_sample=10, simulate=False\n",
    ")"
   ]
  },
  {
   "cell_type": "code",
   "execution_count": null,
   "metadata": {},
   "outputs": [],
   "source": []
  }
 ],
 "metadata": {
  "execution": {
   "timeout": 10800
  }
 },
 "nbformat": 4,
 "nbformat_minor": 2
}
