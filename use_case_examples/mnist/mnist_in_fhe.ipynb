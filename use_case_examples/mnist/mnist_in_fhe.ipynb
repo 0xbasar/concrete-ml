{
 "cells": [
  {
   "cell_type": "markdown",
   "id": "48790992",
   "metadata": {},
   "source": [
    "# MNIST Classification with Brevitas Quantization-Aware Training \n",
    "\n",
    "In this notebook, we show how to use [Brevitas](https://github.com/Xilinx/brevitas) to perform quantization-aware training on the famous [MNIST](http://yann.lecun.com/exdb/mnist/) dataset. We then show how the Virtual Library can be used to finetune parameters and find the best setting, before finally checking computations in FHE."
   ]
  },
  {
   "cell_type": "code",
   "execution_count": 1,
   "id": "01d93a9a",
   "metadata": {},
   "outputs": [
    {
     "name": "stdout",
     "output_type": "stream",
     "text": [
      "Using rdseed seeder.\n"
     ]
    }
   ],
   "source": [
    "import matplotlib.pyplot as plt\n",
    "import numpy as np\n",
    "import onnx\n",
    "import torch\n",
    "\n",
    "# Concrete-Numpy and Concrete-ML\n",
    "from concrete.numpy.compilation import Configuration\n",
    "\n",
    "# The QAT model\n",
    "from model import MNISTQATModel\n",
    "from torch import nn, optim\n",
    "from torch.optim.lr_scheduler import StepLR\n",
    "from torchvision import datasets, transforms\n",
    "from tqdm import tqdm\n",
    "\n",
    "from concrete.ml.torch.compile import compile_torch_model"
   ]
  },
  {
   "cell_type": "markdown",
   "id": "9878260c",
   "metadata": {},
   "source": [
    "Here are the functions to train and test the model. Everything is very classical here."
   ]
  },
  {
   "cell_type": "code",
   "execution_count": 2,
   "id": "95137753",
   "metadata": {},
   "outputs": [],
   "source": [
    "def train(model, device, train_loader, optimizer, epoch, criterion):\n",
    "    \"\"\"Train the model.\"\"\"\n",
    "\n",
    "    model.train()\n",
    "\n",
    "    for batch_idx, (data, target) in enumerate(train_loader):\n",
    "        data, target = data.to(device), target.to(device)\n",
    "        optimizer.zero_grad()\n",
    "        output = model(data).squeeze()\n",
    "        loss = criterion(output, target)\n",
    "        loss.backward()\n",
    "        optimizer.step()\n",
    "\n",
    "        if batch_idx % 500 == 0:\n",
    "            print(\n",
    "                f\"Train Epoch: {epoch} [{batch_idx}/{len(train_loader.dataset) // len(data)}\"\n",
    "                f\" ({100.0 * batch_idx / len(train_loader):.0f}%)]\"\n",
    "                f\"\\tLoss: {loss.item():.6f}\"\n",
    "            )"
   ]
  },
  {
   "cell_type": "code",
   "execution_count": 3,
   "id": "f432e903",
   "metadata": {},
   "outputs": [],
   "source": [
    "def test(model, device, test_loader, criterion):\n",
    "    \"\"\"Test the model.\"\"\"\n",
    "\n",
    "    model.eval()\n",
    "    test_loss = 0\n",
    "    correct = 0\n",
    "\n",
    "    with torch.no_grad():\n",
    "        for data, target in tqdm(test_loader):\n",
    "            data, target = data.to(device), target.to(device)\n",
    "            output = model(data).squeeze()\n",
    "            test_loss += criterion(output, target).item()  # sum up batch loss\n",
    "            pred = output.argmax(dim=1, keepdim=True)  # get the index of the max log-probability\n",
    "            correct += pred.eq(target.view_as(pred)).sum().item()\n",
    "\n",
    "    test_loss /= len(test_loader.dataset)\n",
    "\n",
    "    print(\n",
    "        f\"Test set: Average loss: {test_loss:.4f}, \"\n",
    "        \"Accuracy: \"\n",
    "        f\"{correct}/{len(test_loader.dataset)} ({100.0 * correct / len(test_loader.dataset):.0f}%)\"\n",
    "    )\n",
    "\n",
    "    return test_loss"
   ]
  },
  {
   "cell_type": "code",
   "execution_count": 4,
   "id": "67d9b236",
   "metadata": {},
   "outputs": [],
   "source": [
    "def manage_dataset(train_kwargs, test_kwargs):\n",
    "    \"\"\"Get training and test parts of MNIST dataset.\"\"\"\n",
    "\n",
    "    # Pre-transform\n",
    "    class ReshapeTransform:\n",
    "        def __init__(self, new_size):\n",
    "            self.new_size = new_size\n",
    "\n",
    "        def __call__(self, img):\n",
    "            return torch.reshape(img, self.new_size)\n",
    "\n",
    "    transform = transforms.Compose(\n",
    "        [\n",
    "            transforms.ToTensor(),\n",
    "            transforms.Normalize((0.1307,), (0.3081,)),\n",
    "            ReshapeTransform((28 * 28,)),\n",
    "        ]\n",
    "    )\n",
    "\n",
    "    # Manage datasets\n",
    "    dataset1 = datasets.MNIST(\"./data\", train=True, download=True, transform=transform)\n",
    "    dataset2 = datasets.MNIST(\"./data\", train=False, transform=transform)\n",
    "    train_loader = torch.utils.data.DataLoader(dataset1, **train_kwargs)\n",
    "    test_loader = torch.utils.data.DataLoader(dataset2, **test_kwargs)\n",
    "\n",
    "    return train_loader, test_loader"
   ]
  },
  {
   "cell_type": "markdown",
   "id": "59bd35b2",
   "metadata": {},
   "source": [
    "The following function is used to test the model: it can be done either with the Virtual Library (i.e., without encryption) or in FHE. \n",
    "\n",
    "Checking things in VL is a very good habit to have within Concrete-ML since it allows to see the effect of the quantization on the accuracy, as well as to check the maximal bitwidth of intermediate values, without having to wait as long as when things are computed in FHE."
   ]
  },
  {
   "cell_type": "code",
   "execution_count": 5,
   "id": "24132f48",
   "metadata": {},
   "outputs": [],
   "source": [
    "def compile_and_test(\n",
    "    model,\n",
    "    use_virtual_lib,\n",
    "    np_inputs,\n",
    "    quantization_bits,\n",
    "    test_data,\n",
    "    test_data_length,\n",
    "    test_target,\n",
    "    show_mlir,\n",
    "    current_index,\n",
    "):\n",
    "    # Compile the QAT model and test\n",
    "    configuration = Configuration(\n",
    "        enable_unsafe_features=True,  # This is for our tests only, never use that in prod\n",
    "        use_insecure_key_cache=True,  # This is for our tests only, never use that in prod\n",
    "        insecure_key_cache_location=\"/tmp/keycache\",\n",
    "    )\n",
    "\n",
    "    if use_virtual_lib:\n",
    "        print(f\"\\n{current_index}. Compiling with the Virtual Library\")\n",
    "    else:\n",
    "        print(f\"\\n{current_index}. Compiling in FHE\")\n",
    "\n",
    "    q_module = compile_torch_model(\n",
    "        model,\n",
    "        np_inputs,\n",
    "        import_qat=True,\n",
    "        configuration=configuration,\n",
    "        # Note that in CML 0.4, fixing net_inputs and net_outputs to 5 will no more be needed,\n",
    "        # since it will be the default\n",
    "        n_bits={\n",
    "            \"net_inputs\": 5,\n",
    "            \"op_inputs\": quantization_bits,\n",
    "            \"op_weights\": quantization_bits,\n",
    "            \"net_outputs\": 5,\n",
    "        },\n",
    "        use_virtual_lib=use_virtual_lib,\n",
    "        show_mlir=show_mlir,\n",
    "    )\n",
    "\n",
    "    # Check max bit width\n",
    "    max_bit_width = q_module.forward_fhe.graph.maximum_integer_bit_width()\n",
    "\n",
    "    if max_bit_width > 8:\n",
    "        raise Exception(\n",
    "            f\"Too large bit-width ({max_bit_width}): training this network resulted in an \"\n",
    "            \"accumulator size that is too large. Possible solutions are:\"\n",
    "            \"    - this network should, on average, have 8bit accumulators. In your case an unlucky\"\n",
    "            f\"initialization resulted in {max_bit_width} accumulators. You can try to train the \"\n",
    "            \"network again\"\n",
    "            \"    - reduce the sparsity to reduce the number of active neuron connexions\"\n",
    "            \"    - if the weight and activation bitwidth is more than 2, you can try to reduce one \"\n",
    "            \"or both to a lower value\"\n",
    "        )\n",
    "\n",
    "    # Check the accuracy\n",
    "    if use_virtual_lib:\n",
    "        print(\n",
    "            f\"\\n{current_index + 1}. Checking accuracy with the Virtual Library \"\n",
    "            f\"(length {test_data_length})\"\n",
    "        )\n",
    "    else:\n",
    "        print(f\"\\n{current_index + 1}. Checking accuracy in FHE (length {test_data_length})\")\n",
    "\n",
    "    # Key generation\n",
    "    if not use_virtual_lib:\n",
    "        q_module.forward_fhe.keygen()\n",
    "\n",
    "    correct_fhe = 0\n",
    "    idx = 0\n",
    "\n",
    "    # Reduce the test data, since very slow in FHE\n",
    "    reduced_test_data = test_data[0:test_data_length, :]\n",
    "\n",
    "    for idx, im in enumerate(tqdm(reduced_test_data)):\n",
    "        target_np = test_target[idx]\n",
    "        q_data = q_module.quantize_input(im)\n",
    "        q_data = np.expand_dims(q_data, 0).astype(np.uint8)\n",
    "\n",
    "        prediction = q_module.forward_fhe.encrypt_run_decrypt(q_data)\n",
    "        prediction = q_module.dequantize_output(prediction)\n",
    "\n",
    "        if np.argmax(prediction) == target_np:\n",
    "            correct_fhe += 1\n",
    "\n",
    "    # Final accuracy\n",
    "    return correct_fhe, reduced_test_data.shape[0], max_bit_width"
   ]
  },
  {
   "cell_type": "markdown",
   "id": "06a39bbb",
   "metadata": {},
   "source": [
    "## Settings\n",
    "\n",
    "Here, the user can change some settings. The most important ones are:\n",
    "- epochs: how many epochs during the training\n",
    "- sparsity: to define the number of active neurons in layers; make this value smaller and there will be less active neurons\n",
    "- quantization_bits: the number of bits during quantization. The larger the more accurate, but also the faster we are above the limits of Concrete-ML in term of maximal bitwidth\n",
    "- do_training: whether we do the training. If not, we use the previously saved ONNX model"
   ]
  },
  {
   "cell_type": "code",
   "execution_count": 6,
   "id": "fb62ea33",
   "metadata": {},
   "outputs": [],
   "source": [
    "# Options: the most important ones\n",
    "epochs = 20\n",
    "sparsity = 4\n",
    "quantization_bits = 2\n",
    "do_training = True\n",
    "\n",
    "# Options: can be changed\n",
    "lr = 0.02\n",
    "gamma = 0.33\n",
    "test_data_length_reduced = 2  # This is notably the length of the computation in FHE\n",
    "test_data_length_full = 10000\n",
    "\n",
    "# Options: no real reason to change\n",
    "show_mlir = False\n",
    "batch_size = 32\n",
    "test_batch_size = 32\n",
    "use_cuda_if_available = True\n",
    "seed = None\n",
    "criterion = nn.CrossEntropyLoss()"
   ]
  },
  {
   "cell_type": "markdown",
   "id": "267c0c5e",
   "metadata": {},
   "source": [
    "Seeding if we want to, to try to make everything as reproducible as possible."
   ]
  },
  {
   "cell_type": "code",
   "execution_count": 7,
   "id": "3ddb9ee3",
   "metadata": {},
   "outputs": [
    {
     "name": "stdout",
     "output_type": "stream",
     "text": [
      "\n",
      "Using seed 3108559580\n",
      "\n"
     ]
    }
   ],
   "source": [
    "# Seeding\n",
    "if seed is None:\n",
    "    seed = np.random.randint(0, 2**32 - 1)\n",
    "\n",
    "print(f\"\\nUsing seed {seed}\\n\")\n",
    "torch.manual_seed(seed);"
   ]
  },
  {
   "cell_type": "markdown",
   "id": "efcd103e",
   "metadata": {},
   "source": [
    "Settings few things for the training."
   ]
  },
  {
   "cell_type": "code",
   "execution_count": 8,
   "id": "e14bdea4",
   "metadata": {},
   "outputs": [],
   "source": [
    "# Training and test arguments\n",
    "train_kwargs = {\"batch_size\": batch_size}\n",
    "test_kwargs = {\"batch_size\": test_batch_size}\n",
    "\n",
    "# Cuda management\n",
    "use_cuda = torch.cuda.is_available() and use_cuda_if_available\n",
    "device = torch.device(\"cuda\" if use_cuda else \"cpu\")\n",
    "\n",
    "if use_cuda:\n",
    "    cuda_kwargs = {\"num_workers\": 1, \"pin_memory\": True, \"shuffle\": True}\n",
    "    train_kwargs.update(cuda_kwargs)\n",
    "    test_kwargs.update(cuda_kwargs)"
   ]
  },
  {
   "cell_type": "markdown",
   "id": "02c0a2e7",
   "metadata": {},
   "source": [
    "Managing the MNIST dataset, and splitting it into a training and test part."
   ]
  },
  {
   "cell_type": "code",
   "execution_count": 9,
   "id": "b6c83939",
   "metadata": {},
   "outputs": [],
   "source": [
    "# Manage dataset\n",
    "train_loader, test_loader = manage_dataset(train_kwargs, test_kwargs)"
   ]
  },
  {
   "cell_type": "markdown",
   "id": "5caa0263",
   "metadata": {},
   "source": [
    "### Definining the model\n",
    "\n",
    "The model is defined in `model.py`. You may want to have a look to this file to see how things work in Brevitas. You may also want to apply few changes here, to see what are the effects on the QAT training."
   ]
  },
  {
   "cell_type": "code",
   "execution_count": 10,
   "id": "e02f7dc9",
   "metadata": {},
   "outputs": [],
   "source": [
    "# Model definition\n",
    "model = MNISTQATModel(quantization_bits, quantization_bits)\n",
    "model = model.to(device)\n",
    "model.prune(sparsity, True)"
   ]
  },
  {
   "cell_type": "markdown",
   "id": "84c9f5c7",
   "metadata": {},
   "source": [
    "### Running the training\n",
    "\n",
    "Below, we run the quantization-aware training, which can be quite slow."
   ]
  },
  {
   "cell_type": "code",
   "execution_count": 11,
   "id": "afd06825",
   "metadata": {},
   "outputs": [
    {
     "name": "stdout",
     "output_type": "stream",
     "text": [
      "Performing MNIST task with 2-bits in quantization and a sparsity of 4\n",
      "\n",
      "1. Training\n",
      "Train Epoch: 1 [0/1875 (0%)]\tLoss: 5.305962\n",
      "Train Epoch: 1 [500/1875 (27%)]\tLoss: 0.918988\n",
      "Train Epoch: 1 [1000/1875 (53%)]\tLoss: 0.727811\n",
      "Train Epoch: 1 [1500/1875 (80%)]\tLoss: 0.441159\n"
     ]
    },
    {
     "name": "stderr",
     "output_type": "stream",
     "text": [
      "100%|███████████████████████████████████████████████████████████████████████████████████████████| 313/313 [00:03<00:00, 79.66it/s]\n",
      "/Users/benoitchevalliermames/Documents/Zama/Git/concrete-ml-internal/.venv/lib/python3.9/site-packages/torch/nn/modules/module.py:1365: UserWarning: Positional args are being deprecated, use kwargs instead. Refer to https://pytorch.org/docs/master/generated/torch.nn.Module.html#torch.nn.Module.state_dict for details.\n",
      "  warnings.warn(\n"
     ]
    },
    {
     "name": "stdout",
     "output_type": "stream",
     "text": [
      "Test set: Average loss: 0.0124, Accuracy: 8822/10000 (88%)\n",
      "Train Epoch: 2 [0/1875 (0%)]\tLoss: 0.422780\n",
      "Train Epoch: 2 [500/1875 (27%)]\tLoss: 0.711815\n",
      "Train Epoch: 2 [1000/1875 (53%)]\tLoss: 0.512439\n",
      "Train Epoch: 2 [1500/1875 (80%)]\tLoss: 0.069856\n"
     ]
    },
    {
     "name": "stderr",
     "output_type": "stream",
     "text": [
      "100%|██████████████████████████████████████████████████████████████████████████████████████████| 313/313 [00:03<00:00, 101.70it/s]\n"
     ]
    },
    {
     "name": "stdout",
     "output_type": "stream",
     "text": [
      "Test set: Average loss: 0.0105, Accuracy: 8959/10000 (90%)\n",
      "Train Epoch: 3 [0/1875 (0%)]\tLoss: 0.159041\n",
      "Train Epoch: 3 [500/1875 (27%)]\tLoss: 0.477454\n",
      "Train Epoch: 3 [1000/1875 (53%)]\tLoss: 0.492690\n",
      "Train Epoch: 3 [1500/1875 (80%)]\tLoss: 0.119687\n"
     ]
    },
    {
     "name": "stderr",
     "output_type": "stream",
     "text": [
      "100%|██████████████████████████████████████████████████████████████████████████████████████████| 313/313 [00:03<00:00, 100.44it/s]\n"
     ]
    },
    {
     "name": "stdout",
     "output_type": "stream",
     "text": [
      "Test set: Average loss: 0.0094, Accuracy: 9085/10000 (91%)\n",
      "Train Epoch: 4 [0/1875 (0%)]\tLoss: 0.139899\n",
      "Train Epoch: 4 [500/1875 (27%)]\tLoss: 0.416240\n",
      "Train Epoch: 4 [1000/1875 (53%)]\tLoss: 0.588317\n",
      "Train Epoch: 4 [1500/1875 (80%)]\tLoss: 0.074020\n"
     ]
    },
    {
     "name": "stderr",
     "output_type": "stream",
     "text": [
      "100%|██████████████████████████████████████████████████████████████████████████████████████████| 313/313 [00:03<00:00, 100.71it/s]\n"
     ]
    },
    {
     "name": "stdout",
     "output_type": "stream",
     "text": [
      "Test set: Average loss: 0.0087, Accuracy: 9163/10000 (92%)\n",
      "Train Epoch: 5 [0/1875 (0%)]\tLoss: 0.138318\n",
      "Train Epoch: 5 [500/1875 (27%)]\tLoss: 0.303529\n",
      "Train Epoch: 5 [1000/1875 (53%)]\tLoss: 0.401453\n",
      "Train Epoch: 5 [1500/1875 (80%)]\tLoss: 0.173679\n"
     ]
    },
    {
     "name": "stderr",
     "output_type": "stream",
     "text": [
      "100%|███████████████████████████████████████████████████████████████████████████████████████████| 313/313 [00:03<00:00, 99.31it/s]\n"
     ]
    },
    {
     "name": "stdout",
     "output_type": "stream",
     "text": [
      "Test set: Average loss: 0.0086, Accuracy: 9140/10000 (91%)\n",
      "Train Epoch: 6 [0/1875 (0%)]\tLoss: 0.118950\n",
      "Train Epoch: 6 [500/1875 (27%)]\tLoss: 0.401570\n",
      "Train Epoch: 6 [1000/1875 (53%)]\tLoss: 0.463107\n",
      "Train Epoch: 6 [1500/1875 (80%)]\tLoss: 0.195206\n"
     ]
    },
    {
     "name": "stderr",
     "output_type": "stream",
     "text": [
      "100%|██████████████████████████████████████████████████████████████████████████████████████████| 313/313 [00:03<00:00, 100.26it/s]\n"
     ]
    },
    {
     "name": "stdout",
     "output_type": "stream",
     "text": [
      "Test set: Average loss: 0.0086, Accuracy: 9161/10000 (92%)\n",
      "Train Epoch: 7 [0/1875 (0%)]\tLoss: 0.057101\n",
      "Train Epoch: 7 [500/1875 (27%)]\tLoss: 0.327124\n",
      "Train Epoch: 7 [1000/1875 (53%)]\tLoss: 0.423646\n",
      "Train Epoch: 7 [1500/1875 (80%)]\tLoss: 0.176952\n"
     ]
    },
    {
     "name": "stderr",
     "output_type": "stream",
     "text": [
      "100%|██████████████████████████████████████████████████████████████████████████████████████████| 313/313 [00:03<00:00, 100.46it/s]\n"
     ]
    },
    {
     "name": "stdout",
     "output_type": "stream",
     "text": [
      "Test set: Average loss: 0.0090, Accuracy: 9115/10000 (91%)\n",
      "Train Epoch: 8 [0/1875 (0%)]\tLoss: 0.210740\n",
      "Train Epoch: 8 [500/1875 (27%)]\tLoss: 0.476865\n",
      "Train Epoch: 8 [1000/1875 (53%)]\tLoss: 0.536574\n",
      "Train Epoch: 8 [1500/1875 (80%)]\tLoss: 0.104642\n"
     ]
    },
    {
     "name": "stderr",
     "output_type": "stream",
     "text": [
      "100%|██████████████████████████████████████████████████████████████████████████████████████████| 313/313 [00:03<00:00, 101.81it/s]\n"
     ]
    },
    {
     "name": "stdout",
     "output_type": "stream",
     "text": [
      "Test set: Average loss: 0.0087, Accuracy: 9124/10000 (91%)\n",
      "Train Epoch: 9 [0/1875 (0%)]\tLoss: 0.055264\n",
      "Train Epoch: 9 [500/1875 (27%)]\tLoss: 0.409403\n",
      "Train Epoch: 9 [1000/1875 (53%)]\tLoss: 0.504187\n",
      "Train Epoch: 9 [1500/1875 (80%)]\tLoss: 0.163340\n"
     ]
    },
    {
     "name": "stderr",
     "output_type": "stream",
     "text": [
      "100%|███████████████████████████████████████████████████████████████████████████████████████████| 313/313 [00:03<00:00, 90.96it/s]\n"
     ]
    },
    {
     "name": "stdout",
     "output_type": "stream",
     "text": [
      "Test set: Average loss: 0.0086, Accuracy: 9162/10000 (92%)\n",
      "Train Epoch: 10 [0/1875 (0%)]\tLoss: 0.115935\n",
      "Train Epoch: 10 [500/1875 (27%)]\tLoss: 0.522204\n",
      "Train Epoch: 10 [1000/1875 (53%)]\tLoss: 0.513674\n",
      "Train Epoch: 10 [1500/1875 (80%)]\tLoss: 0.141357\n"
     ]
    },
    {
     "name": "stderr",
     "output_type": "stream",
     "text": [
      "100%|███████████████████████████████████████████████████████████████████████████████████████████| 313/313 [00:03<00:00, 99.46it/s]\n"
     ]
    },
    {
     "name": "stdout",
     "output_type": "stream",
     "text": [
      "Test set: Average loss: 0.0085, Accuracy: 9151/10000 (92%)\n",
      "Train Epoch: 11 [0/1875 (0%)]\tLoss: 0.184956\n",
      "Train Epoch: 11 [500/1875 (27%)]\tLoss: 0.367457\n",
      "Train Epoch: 11 [1000/1875 (53%)]\tLoss: 0.456636\n",
      "Train Epoch: 11 [1500/1875 (80%)]\tLoss: 0.134292\n"
     ]
    },
    {
     "name": "stderr",
     "output_type": "stream",
     "text": [
      "100%|███████████████████████████████████████████████████████████████████████████████████████████| 313/313 [00:03<00:00, 99.94it/s]\n"
     ]
    },
    {
     "name": "stdout",
     "output_type": "stream",
     "text": [
      "Test set: Average loss: 0.0086, Accuracy: 9146/10000 (91%)\n",
      "Train Epoch: 12 [0/1875 (0%)]\tLoss: 0.100917\n",
      "Train Epoch: 12 [500/1875 (27%)]\tLoss: 0.479832\n",
      "Train Epoch: 12 [1000/1875 (53%)]\tLoss: 0.484519\n",
      "Train Epoch: 12 [1500/1875 (80%)]\tLoss: 0.143926\n"
     ]
    },
    {
     "name": "stderr",
     "output_type": "stream",
     "text": [
      "100%|███████████████████████████████████████████████████████████████████████████████████████████| 313/313 [00:04<00:00, 71.00it/s]\n"
     ]
    },
    {
     "name": "stdout",
     "output_type": "stream",
     "text": [
      "Test set: Average loss: 0.0088, Accuracy: 9126/10000 (91%)\n",
      "Train Epoch: 13 [0/1875 (0%)]\tLoss: 0.137374\n",
      "Train Epoch: 13 [500/1875 (27%)]\tLoss: 0.397918\n",
      "Train Epoch: 13 [1000/1875 (53%)]\tLoss: 0.570611\n",
      "Train Epoch: 13 [1500/1875 (80%)]\tLoss: 0.086632\n"
     ]
    },
    {
     "name": "stderr",
     "output_type": "stream",
     "text": [
      "100%|██████████████████████████████████████████████████████████████████████████████████████████| 313/313 [00:03<00:00, 100.31it/s]\n"
     ]
    },
    {
     "name": "stdout",
     "output_type": "stream",
     "text": [
      "Test set: Average loss: 0.0075, Accuracy: 9265/10000 (93%)\n",
      "Train Epoch: 14 [0/1875 (0%)]\tLoss: 0.153252\n",
      "Train Epoch: 14 [500/1875 (27%)]\tLoss: 0.405863\n",
      "Train Epoch: 14 [1000/1875 (53%)]\tLoss: 0.474483\n",
      "Train Epoch: 14 [1500/1875 (80%)]\tLoss: 0.131933\n"
     ]
    },
    {
     "name": "stderr",
     "output_type": "stream",
     "text": [
      "100%|███████████████████████████████████████████████████████████████████████████████████████████| 313/313 [00:03<00:00, 86.93it/s]\n"
     ]
    },
    {
     "name": "stdout",
     "output_type": "stream",
     "text": [
      "Test set: Average loss: 0.0075, Accuracy: 9263/10000 (93%)\n",
      "Train Epoch: 15 [0/1875 (0%)]\tLoss: 0.153252\n",
      "Train Epoch: 15 [500/1875 (27%)]\tLoss: 0.405863\n",
      "Train Epoch: 15 [1000/1875 (53%)]\tLoss: 0.474483\n",
      "Train Epoch: 15 [1500/1875 (80%)]\tLoss: 0.131933\n"
     ]
    },
    {
     "name": "stderr",
     "output_type": "stream",
     "text": [
      "100%|██████████████████████████████████████████████████████████████████████████████████████████| 313/313 [00:03<00:00, 101.48it/s]\n"
     ]
    },
    {
     "name": "stdout",
     "output_type": "stream",
     "text": [
      "Test set: Average loss: 0.0075, Accuracy: 9263/10000 (93%)\n",
      "Train Epoch: 16 [0/1875 (0%)]\tLoss: 0.153252\n",
      "Train Epoch: 16 [500/1875 (27%)]\tLoss: 0.405863\n",
      "Train Epoch: 16 [1000/1875 (53%)]\tLoss: 0.474483\n",
      "Train Epoch: 16 [1500/1875 (80%)]\tLoss: 0.131933\n"
     ]
    },
    {
     "name": "stderr",
     "output_type": "stream",
     "text": [
      "100%|██████████████████████████████████████████████████████████████████████████████████████████| 313/313 [00:03<00:00, 100.81it/s]\n"
     ]
    },
    {
     "name": "stdout",
     "output_type": "stream",
     "text": [
      "Test set: Average loss: 0.0075, Accuracy: 9263/10000 (93%)\n",
      "Train Epoch: 17 [0/1875 (0%)]\tLoss: 0.153252\n",
      "Train Epoch: 17 [500/1875 (27%)]\tLoss: 0.405863\n",
      "Train Epoch: 17 [1000/1875 (53%)]\tLoss: 0.474483\n",
      "Train Epoch: 17 [1500/1875 (80%)]\tLoss: 0.131933\n"
     ]
    },
    {
     "name": "stderr",
     "output_type": "stream",
     "text": [
      "100%|███████████████████████████████████████████████████████████████████████████████████████████| 313/313 [00:03<00:00, 92.53it/s]\n"
     ]
    },
    {
     "name": "stdout",
     "output_type": "stream",
     "text": [
      "Test set: Average loss: 0.0075, Accuracy: 9263/10000 (93%)\n",
      "Train Epoch: 18 [0/1875 (0%)]\tLoss: 0.153252\n",
      "Train Epoch: 18 [500/1875 (27%)]\tLoss: 0.405863\n",
      "Train Epoch: 18 [1000/1875 (53%)]\tLoss: 0.474483\n",
      "Train Epoch: 18 [1500/1875 (80%)]\tLoss: 0.131933\n"
     ]
    },
    {
     "name": "stderr",
     "output_type": "stream",
     "text": [
      "100%|██████████████████████████████████████████████████████████████████████████████████████████| 313/313 [00:03<00:00, 101.44it/s]\n"
     ]
    },
    {
     "name": "stdout",
     "output_type": "stream",
     "text": [
      "Test set: Average loss: 0.0075, Accuracy: 9263/10000 (93%)\n",
      "Train Epoch: 19 [0/1875 (0%)]\tLoss: 0.153252\n",
      "Train Epoch: 19 [500/1875 (27%)]\tLoss: 0.405863\n",
      "Train Epoch: 19 [1000/1875 (53%)]\tLoss: 0.474483\n",
      "Train Epoch: 19 [1500/1875 (80%)]\tLoss: 0.131933\n"
     ]
    },
    {
     "name": "stderr",
     "output_type": "stream",
     "text": [
      "100%|███████████████████████████████████████████████████████████████████████████████████████████| 313/313 [00:03<00:00, 95.56it/s]\n"
     ]
    },
    {
     "name": "stdout",
     "output_type": "stream",
     "text": [
      "Test set: Average loss: 0.0075, Accuracy: 9263/10000 (93%)\n",
      "Train Epoch: 20 [0/1875 (0%)]\tLoss: 0.153252\n",
      "Train Epoch: 20 [500/1875 (27%)]\tLoss: 0.405863\n",
      "Train Epoch: 20 [1000/1875 (53%)]\tLoss: 0.474483\n",
      "Train Epoch: 20 [1500/1875 (80%)]\tLoss: 0.131933\n"
     ]
    },
    {
     "name": "stderr",
     "output_type": "stream",
     "text": [
      "100%|██████████████████████████████████████████████████████████████████████████████████████████| 313/313 [00:03<00:00, 100.14it/s]\n"
     ]
    },
    {
     "name": "stdout",
     "output_type": "stream",
     "text": [
      "Test set: Average loss: 0.0075, Accuracy: 9263/10000 (93%)\n",
      "\n",
      "2. Exporting to ONNX\n"
     ]
    },
    {
     "name": "stderr",
     "output_type": "stream",
     "text": [
      "/Users/benoitchevalliermames/Documents/Zama/Git/concrete-ml-internal/.venv/lib/python3.9/site-packages/brevitas/quant_tensor/__init__.py:94: TracerWarning: torch.tensor results are registered as constants in the trace. You can safely ignore this warning if you use this function to create tensors out of constant variables that would be the same every time you call this function. In any other case, this might cause the trace to be incorrect.\n",
      "  x = torch.tensor(x, dtype=torch_dtype)\n"
     ]
    },
    {
     "data": {
      "image/png": "[encoded data removed]",
      "text/plain": [
       "<Figure size 640x480 with 1 Axes>"
      ]
     },
     "metadata": {},
     "output_type": "display_data"
    }
   ],
   "source": [
    "# Training part\n",
    "print(\n",
    "    f\"Performing MNIST task with {quantization_bits}-bits in quantization and a \"\n",
    "    f\"sparsity of {sparsity}\"\n",
    ")\n",
    "\n",
    "if do_training:\n",
    "    print(\"\\n1. Training\")\n",
    "    optimizer = optim.Adam(model.parameters(), lr=lr, weight_decay=0.0001)\n",
    "    scheduler = StepLR(optimizer, step_size=1, gamma=gamma)\n",
    "    test_loss = 1e10\n",
    "    loss_values = []\n",
    "\n",
    "    for epoch in range(1, epochs + 1):\n",
    "        train(model, device, train_loader, optimizer, epoch, criterion)\n",
    "        cur_loss = test(model, device, test_loader, criterion)\n",
    "\n",
    "        scheduler.step()\n",
    "\n",
    "        loss_values.append(cur_loss)\n",
    "\n",
    "    model.prune(sparsity, False)\n",
    "\n",
    "    # Plot the loss\n",
    "    fig = plt.figure()\n",
    "    plt.plot(loss_values)\n",
    "    fig.suptitle(\"Loss during QAT\")\n",
    "    plt.xlabel(\"Epochs\")\n",
    "    plt.ylabel(\"Loss\")\n",
    "    plt.xticks(range(len(loss_values)))\n",
    "\n",
    "    # Export to ONNX\n",
    "    print(\"\\n2. Exporting to ONNX\")\n",
    "    inp = torch.rand((1, 784)).to(device)\n",
    "    torch.onnx.export(model, inp, \"mnist.qat.onnx\", opset_version=14)\n",
    "\n",
    "else:\n",
    "    print(\"\\n1. Loading pre-trained model\")"
   ]
  },
  {
   "cell_type": "markdown",
   "id": "858488a8",
   "metadata": {},
   "source": [
    "Then, we reload the model, which is useful if we've set do_training = False to avoid to redo the training."
   ]
  },
  {
   "cell_type": "code",
   "execution_count": 12,
   "id": "221d9405",
   "metadata": {},
   "outputs": [],
   "source": [
    "# Reload the model\n",
    "model = onnx.load(\"mnist.qat.onnx\")"
   ]
  },
  {
   "cell_type": "markdown",
   "id": "ce19d042",
   "metadata": {},
   "source": [
    "We prepare the ground truth, for final check of the model."
   ]
  },
  {
   "cell_type": "code",
   "execution_count": 13,
   "id": "d3736e4d",
   "metadata": {},
   "outputs": [
    {
     "name": "stderr",
     "output_type": "stream",
     "text": [
      "100%|██████████████████████████████████████████████████████████████████████████████████████████| 313/313 [00:01<00:00, 208.36it/s]\n"
     ]
    }
   ],
   "source": [
    "# Prepare tests\n",
    "list_inputs = []\n",
    "list_targets = []\n",
    "\n",
    "for inputs in test_loader:\n",
    "    inputs_var, targets = inputs\n",
    "    list_inputs.append(inputs_var.detach().cpu().numpy())\n",
    "    list_targets.append(targets.detach().cpu().numpy())\n",
    "\n",
    "np_inputs = np.concatenate(list_inputs, axis=0)\n",
    "np_targets = np.concatenate(list_targets, axis=0)\n",
    "\n",
    "test_data = np.zeros((len(test_loader.dataset), 784))\n",
    "test_target = np.zeros((len(test_loader.dataset), 1))\n",
    "idx = 0\n",
    "\n",
    "for data, target in tqdm(test_loader):\n",
    "    target_np = target.cpu().numpy()\n",
    "    for idx_batch, im in enumerate(data.numpy()):\n",
    "        test_data[idx] = im\n",
    "        test_target[idx] = target_np[idx_batch]\n",
    "        idx += 1"
   ]
  },
  {
   "cell_type": "markdown",
   "id": "14025865",
   "metadata": {},
   "source": [
    "### Measuring accuracy in VL and FHE\n",
    "\n",
    "Finally, we measure:\n",
    "- accuracy in VL for the full test set\n",
    "- accuracy in VL for the reduced test set\n",
    "- accuracy in FHE for the reduced test set   \n",
    "\n",
    "and we check that accuracy in VL and in FHE are equivalent on the reduced test set. \n",
    "\n",
    "Running FHE computations on a too large reduced test set may be prohibitive since we're 100% on CPU for the time being. Later, we'll have HW accelerators, to make these computations several order of magnitude faster. "
   ]
  },
  {
   "cell_type": "code",
   "execution_count": 14,
   "id": "eb014141",
   "metadata": {},
   "outputs": [
    {
     "name": "stdout",
     "output_type": "stream",
     "text": [
      "\n",
      "3. Compiling with the Virtual Library\n",
      "\n",
      "4. Checking accuracy with the Virtual Library (length 10000)\n"
     ]
    },
    {
     "name": "stderr",
     "output_type": "stream",
     "text": [
      "100%|██████████████████████████████████████████████████████████████████████████████████████| 10000/10000 [00:58<00:00, 170.43it/s]\n"
     ]
    },
    {
     "name": "stdout",
     "output_type": "stream",
     "text": [
      "Accuracy in VL with length 10000: 9282/10000 = 0.9282, in 6 bits\n",
      "\n",
      "5. Compiling with the Virtual Library\n",
      "\n",
      "6. Checking accuracy with the Virtual Library (length 2)\n"
     ]
    },
    {
     "name": "stderr",
     "output_type": "stream",
     "text": [
      "100%|██████████████████████████████████████████████████████████████████████████████████████████████| 2/2 [00:00<00:00, 117.30it/s]"
     ]
    },
    {
     "name": "stdout",
     "output_type": "stream",
     "text": [
      "Accuracy in VL with length 2: 2/2 = 1.0000, in 6 bits\n",
      "\n",
      "7. Compiling in FHE\n"
     ]
    },
    {
     "name": "stderr",
     "output_type": "stream",
     "text": [
      "\n"
     ]
    },
    {
     "name": "stdout",
     "output_type": "stream",
     "text": [
      "\n",
      "8. Checking accuracy in FHE (length 2)\n"
     ]
    },
    {
     "name": "stderr",
     "output_type": "stream",
     "text": [
      "100%|██████████████████████████████████████████████████████████████████████████████████████████████| 2/2 [08:43<00:00, 261.86s/it]"
     ]
    },
    {
     "name": "stdout",
     "output_type": "stream",
     "text": [
      "Accuracy in FHE with length 2: 2/2 = 1.0000, in 6 bits\n"
     ]
    },
    {
     "name": "stderr",
     "output_type": "stream",
     "text": [
      "\n"
     ]
    }
   ],
   "source": [
    "# Test in the VL and in FHE\n",
    "accuracy = {}\n",
    "current_index = 3\n",
    "\n",
    "for use_virtual_lib, use_full_dataset in [(True, True), (True, False), (False, False)]:\n",
    "    test_data_length = test_data_length_full if use_full_dataset else test_data_length_reduced\n",
    "\n",
    "    correct_fhe, test_data_shape_0, max_bit_width = compile_and_test(\n",
    "        model,\n",
    "        use_virtual_lib,\n",
    "        np_inputs,\n",
    "        quantization_bits,\n",
    "        test_data,\n",
    "        test_data_length,\n",
    "        test_target,\n",
    "        show_mlir,\n",
    "        current_index,\n",
    "    )\n",
    "\n",
    "    current_index += 2\n",
    "    current_accuracy = correct_fhe / test_data_shape_0\n",
    "\n",
    "    print(\n",
    "        f\"Accuracy in {'VL' if use_virtual_lib else 'FHE'} with length {test_data_length}: \"\n",
    "        f\"{correct_fhe}/{test_data_shape_0} = \"\n",
    "        f\"{current_accuracy:.4f}, in {max_bit_width} bits\"\n",
    "    )\n",
    "\n",
    "    if (use_virtual_lib, use_full_dataset) == (True, True):\n",
    "        accuracy[\"VL full\"] = current_accuracy\n",
    "    elif (use_virtual_lib, use_full_dataset) == (True, False):\n",
    "        accuracy[\"VL short\"] = current_accuracy\n",
    "    else:\n",
    "        assert (use_virtual_lib, use_full_dataset) == (False, False)\n",
    "        accuracy[\"FHE short\"] = current_accuracy"
   ]
  },
  {
   "cell_type": "code",
   "execution_count": 15,
   "id": "bf39f067",
   "metadata": {},
   "outputs": [],
   "source": [
    "# Check that accuracy in FHE and in VL is the same\n",
    "assert (\n",
    "    accuracy[\"VL short\"] == accuracy[\"FHE short\"]\n",
    "), \"Error, accuracy in VL and in FHE are not the same\"\n",
    "\n",
    "# Check that accuracy is random-looking\n",
    "assert accuracy[\"VL full\"] > 0.8, \"Error, accuracy is too bad\""
   ]
  },
  {
   "cell_type": "markdown",
   "id": "b5060f56",
   "metadata": {},
   "source": [
    "### Conclusion\n",
    "\n",
    "We've shown how to train a model with Brevitas in quantization-aware training. Then, we've seen that its accuracy was pretty correct (92% is not too hard to obtain), even if lower than the state-of-the-art on cleartexts. \n",
    "\n",
    "Brevitas is not the only third-party package one can use for QAT. Other examples with other frameworks will certainly be added in our repository.\n"
   ]
  }
 ],
 "metadata": {
  "execution": {
   "timeout": 10800
  }
 },
 "nbformat": 4,
 "nbformat_minor": 5
}
