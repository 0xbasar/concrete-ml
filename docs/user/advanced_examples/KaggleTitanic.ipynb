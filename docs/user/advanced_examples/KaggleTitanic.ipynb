{
 "cells": [
  {
   "cell_type": "markdown",
   "id": "0052f074",
   "metadata": {},
   "source": [
    "# Testing Titanic with Decision Trees\n",
    "\n",
    "From https://www.kaggle.com/c/titanic/ competition. Be sure to run `./script/kaggle_utils/download_datasets.sh` to have local versions of the dataset.\n",
    "\n",
    "With inspiration from ppxgboost repository, https://github.com/awslabs/privacy-preserving-xgboost-inference/blob/master/example/Titanic.ipynb, which is \"Copyright Amazon.com, Inc. or its affiliates. All Rights Reserved. SPDX-License-Identifier: Apache-2.0\".  "
   ]
  },
  {
   "cell_type": "code",
   "execution_count": 1,
   "id": "7c415ea3",
   "metadata": {},
   "outputs": [],
   "source": [
    "import os\n",
    "import time\n",
    "\n",
    "import numpy as np\n",
    "import pandas as pd\n",
    "import xgboost as xgb\n",
    "\n",
    "from concrete.ml.sklearn import XGBClassifier as ConcreteXGBClassifier"
   ]
  },
  {
   "cell_type": "code",
   "execution_count": 2,
   "id": "f5f3802c",
   "metadata": {},
   "outputs": [],
   "source": [
    "# Download datasets\n",
    "if not os.path.isfile(\"./local_datasets/titanic/train.csv\"):\n",
    "    raise ValueError(\"Please launch ./script/kaggle_utils/download_datasets.sh to get datasets\")\n",
    "\n",
    "train = pd.read_csv(\"./local_datasets/titanic/train.csv\")\n",
    "test = pd.read_csv(\"./local_datasets/titanic/test.csv\")\n",
    "\n",
    "X_train = train[[\"Pclass\", \"Age\", \"Fare\", \"SibSp\", \"Parch\"]]\n",
    "y_train = train[[\"Survived\"]]\n",
    "X_test = test[[\"Pclass\", \"Age\", \"Fare\", \"SibSp\", \"Parch\"]]"
   ]
  },
  {
   "cell_type": "code",
   "execution_count": 3,
   "id": "b01b966f",
   "metadata": {},
   "outputs": [],
   "source": [
    "# Sanitize a bit, ie replace empty ages by average age\n",
    "average_age = 0\n",
    "nb_age = 0\n",
    "\n",
    "for age in X_train[\"Age\"]:\n",
    "    if not np.isnan(age):\n",
    "        average_age += age\n",
    "        nb_age += 1\n",
    "\n",
    "average_age /= nb_age\n",
    "\n",
    "for i, age in enumerate(X_train[\"Age\"]):\n",
    "    if np.isnan(age):\n",
    "        X_train[\"Age\"][i] = average_age"
   ]
  },
  {
   "cell_type": "code",
   "execution_count": 4,
   "id": "7a169674",
   "metadata": {},
   "outputs": [
    {
     "data": {
      "text/html": [
       "<div>\n",
       "<style scoped>\n",
       "    .dataframe tbody tr th:only-of-type {\n",
       "        vertical-align: middle;\n",
       "    }\n",
       "\n",
       "    .dataframe tbody tr th {\n",
       "        vertical-align: top;\n",
       "    }\n",
       "\n",
       "    .dataframe thead th {\n",
       "        text-align: right;\n",
       "    }\n",
       "</style>\n",
       "<table border=\"1\" class=\"dataframe\">\n",
       "  <thead>\n",
       "    <tr style=\"text-align: right;\">\n",
       "      <th></th>\n",
       "      <th>Pclass</th>\n",
       "      <th>Age</th>\n",
       "      <th>Fare</th>\n",
       "      <th>SibSp</th>\n",
       "      <th>Parch</th>\n",
       "    </tr>\n",
       "  </thead>\n",
       "  <tbody>\n",
       "    <tr>\n",
       "      <th>0</th>\n",
       "      <td>3</td>\n",
       "      <td>22.0</td>\n",
       "      <td>7.2500</td>\n",
       "      <td>1</td>\n",
       "      <td>0</td>\n",
       "    </tr>\n",
       "    <tr>\n",
       "      <th>1</th>\n",
       "      <td>1</td>\n",
       "      <td>38.0</td>\n",
       "      <td>71.2833</td>\n",
       "      <td>1</td>\n",
       "      <td>0</td>\n",
       "    </tr>\n",
       "    <tr>\n",
       "      <th>2</th>\n",
       "      <td>3</td>\n",
       "      <td>26.0</td>\n",
       "      <td>7.9250</td>\n",
       "      <td>0</td>\n",
       "      <td>0</td>\n",
       "    </tr>\n",
       "    <tr>\n",
       "      <th>3</th>\n",
       "      <td>1</td>\n",
       "      <td>35.0</td>\n",
       "      <td>53.1000</td>\n",
       "      <td>1</td>\n",
       "      <td>0</td>\n",
       "    </tr>\n",
       "    <tr>\n",
       "      <th>4</th>\n",
       "      <td>3</td>\n",
       "      <td>35.0</td>\n",
       "      <td>8.0500</td>\n",
       "      <td>0</td>\n",
       "      <td>0</td>\n",
       "    </tr>\n",
       "  </tbody>\n",
       "</table>\n",
       "</div>"
      ],
      "text/plain": [
       "   Pclass   Age     Fare  SibSp  Parch\n",
       "0       3  22.0   7.2500      1      0\n",
       "1       1  38.0  71.2833      1      0\n",
       "2       3  26.0   7.9250      0      0\n",
       "3       1  35.0  53.1000      1      0\n",
       "4       3  35.0   8.0500      0      0"
      ]
     },
     "execution_count": 4,
     "metadata": {},
     "output_type": "execute_result"
    }
   ],
   "source": [
    "X_train.head()"
   ]
  },
  {
   "cell_type": "code",
   "execution_count": 5,
   "id": "e98e5120",
   "metadata": {},
   "outputs": [
    {
     "data": {
      "text/html": [
       "<div>\n",
       "<style scoped>\n",
       "    .dataframe tbody tr th:only-of-type {\n",
       "        vertical-align: middle;\n",
       "    }\n",
       "\n",
       "    .dataframe tbody tr th {\n",
       "        vertical-align: top;\n",
       "    }\n",
       "\n",
       "    .dataframe thead th {\n",
       "        text-align: right;\n",
       "    }\n",
       "</style>\n",
       "<table border=\"1\" class=\"dataframe\">\n",
       "  <thead>\n",
       "    <tr style=\"text-align: right;\">\n",
       "      <th></th>\n",
       "      <th>Survived</th>\n",
       "    </tr>\n",
       "  </thead>\n",
       "  <tbody>\n",
       "    <tr>\n",
       "      <th>0</th>\n",
       "      <td>0</td>\n",
       "    </tr>\n",
       "    <tr>\n",
       "      <th>1</th>\n",
       "      <td>1</td>\n",
       "    </tr>\n",
       "    <tr>\n",
       "      <th>2</th>\n",
       "      <td>1</td>\n",
       "    </tr>\n",
       "    <tr>\n",
       "      <th>3</th>\n",
       "      <td>1</td>\n",
       "    </tr>\n",
       "    <tr>\n",
       "      <th>4</th>\n",
       "      <td>0</td>\n",
       "    </tr>\n",
       "  </tbody>\n",
       "</table>\n",
       "</div>"
      ],
      "text/plain": [
       "   Survived\n",
       "0         0\n",
       "1         1\n",
       "2         1\n",
       "3         1\n",
       "4         0"
      ]
     },
     "execution_count": 5,
     "metadata": {},
     "output_type": "execute_result"
    }
   ],
   "source": [
    "y_train.head()"
   ]
  },
  {
   "cell_type": "markdown",
   "id": "0f6b246c",
   "metadata": {},
   "source": [
    "### Train a Decision Tree with XGBoost (in clear)"
   ]
  },
  {
   "cell_type": "code",
   "execution_count": 6,
   "id": "0999b624",
   "metadata": {},
   "outputs": [
    {
     "name": "stdout",
     "output_type": "stream",
     "text": [
      "Accuracy on training: 0.8013468013468014\n"
     ]
    }
   ],
   "source": [
    "model = xgb.XGBClassifier(n_estimators=10)\n",
    "model.fit(X_train.to_numpy(), y_train.to_numpy())\n",
    "print(f\"Accuracy on training: {model.score(X_train.to_numpy(), y_train.to_numpy())}\")"
   ]
  },
  {
   "cell_type": "markdown",
   "id": "5b0a065d",
   "metadata": {},
   "source": [
    "### The same Decision Tree, but with Concrete-ML"
   ]
  },
  {
   "cell_type": "code",
   "execution_count": 7,
   "id": "001751a1",
   "metadata": {},
   "outputs": [
    {
     "name": "stdout",
     "output_type": "stream",
     "text": [
      "\n",
      "Computation Graph\n",
      "--------------------------------------------------------------------------------\n",
      " %0 = [[[-28  -1 ...   0   0]]]                # ClearTensor<int6, shape=(10, 1, 37)>\n",
      " %1 = [[4] [6] [ ... ] [0] [0]]                # ClearTensor<uint3, shape=(370, 1)>\n",
      " %2 = [[[ 1  1   ... 0  0  0]]]                # ClearTensor<int2, shape=(10, 37, 36)>\n",
      " %3 = [[47] [ 7] ... [ 0] [ 0]]                # ClearTensor<uint6, shape=(360, 1)>\n",
      " %4 = [[1 0 0 0  ...  0 0 0 0]]                # ClearTensor<uint1, shape=(360, 5)>\n",
      " %5 = _inputs                                  # EncryptedTensor<uint6, shape=(5, 1)>\n",
      " %6 = matmul(%4, %5)                           # EncryptedTensor<uint6, shape=(360, 1)>\n",
      " %7 = less(%6, %3)                             # EncryptedTensor<uint1, shape=(360, 1)>\n",
      " %8 = astype(%7, dtype=int_)                   # EncryptedTensor<uint1, shape=(360, 1)>\n",
      " %9 = reshape(%8, newshape=[10 36 -1])         # EncryptedTensor<uint1, shape=(10, 36, 1)>\n",
      "%10 = matmul(%2, %9)                           # EncryptedTensor<int4, shape=(10, 37, 1)>\n",
      "%11 = reshape(%10, newshape=[370  -1])         # EncryptedTensor<int4, shape=(370, 1)>\n",
      "%12 = equal(%1, %11)                           # EncryptedTensor<uint1, shape=(370, 1)>\n",
      "%13 = reshape(%12, newshape=[10 37 -1])        # EncryptedTensor<uint1, shape=(10, 37, 1)>\n",
      "%14 = matmul(%0, %13)                          # EncryptedTensor<int6, shape=(10, 1, 1)>\n",
      "%15 = reshape(%14, newshape=[10  1 -1])        # EncryptedTensor<int6, shape=(10, 1, 1)>\n",
      "return %15\n",
      "--------------------------------------------------------------------------------\n",
      "\n",
      "Warning: You are using virtual compilation, which means the evaluation will not be homomorphic.\n",
      "Accuracy on training: 0.77665544332211\n"
     ]
    }
   ],
   "source": [
    "concrete_model = ConcreteXGBClassifier(n_bits=6, max_depth=7, n_estimators=10)\n",
    "concrete_model.fit(X_train.to_numpy(), y_train.to_numpy())\n",
    "concrete_model.compile(X_train.to_numpy(), use_virtual_lib=True, show_mlir=True)\n",
    "print(f\"Accuracy on training: {concrete_model.score(X_train.to_numpy(), y_train.to_numpy())}\")"
   ]
  },
  {
   "cell_type": "markdown",
   "id": "a40aba09",
   "metadata": {},
   "source": [
    "### Compare clear and quantized precisions"
   ]
  },
  {
   "cell_type": "code",
   "execution_count": 8,
   "id": "5675c1fe",
   "metadata": {},
   "outputs": [],
   "source": [
    "clear_predictions = model.predict(X_test)"
   ]
  },
  {
   "cell_type": "code",
   "execution_count": 9,
   "id": "f373e74c",
   "metadata": {},
   "outputs": [],
   "source": [
    "quantized_predictions = concrete_model.predict(X_test.to_numpy())"
   ]
  },
  {
   "cell_type": "code",
   "execution_count": 10,
   "id": "8874f54a",
   "metadata": {},
   "outputs": [
    {
     "name": "stdout",
     "output_type": "stream",
     "text": [
      "Predictions which are the same between clear and quantized: 362 / 418\n"
     ]
    }
   ],
   "source": [
    "nb_equal = np.sum(quantized_predictions == clear_predictions)\n",
    "nb_total = len(clear_predictions)\n",
    "print(f\"Predictions which are the same between clear and quantized: {nb_equal} / {nb_total}\")"
   ]
  },
  {
   "cell_type": "markdown",
   "id": "58ae17b1",
   "metadata": {},
   "source": [
    "### Compare clear and FHE precisions"
   ]
  },
  {
   "cell_type": "code",
   "execution_count": 11,
   "id": "389c3cae",
   "metadata": {},
   "outputs": [],
   "source": [
    "time_begin = time.time()\n",
    "fhe_predictions = concrete_model.predict(X_test.to_numpy(), execute_in_fhe=True)\n",
    "duration = time.time() - time_begin"
   ]
  },
  {
   "cell_type": "code",
   "execution_count": 12,
   "id": "47ef02e7",
   "metadata": {},
   "outputs": [
    {
     "name": "stdout",
     "output_type": "stream",
     "text": [
      "Predictions which are the same between clear and FHE: 362 / 418\n",
      "Execution time per inference: 0.0013 s\n"
     ]
    }
   ],
   "source": [
    "nb_equal = np.sum(fhe_predictions == clear_predictions)\n",
    "nb_total = len(fhe_predictions)\n",
    "print(f\"Predictions which are the same between clear and FHE: {nb_equal} / {nb_total}\")\n",
    "print(f\"Execution time per inference: {duration / nb_total:.04f} s\")"
   ]
  },
  {
   "cell_type": "markdown",
   "id": "050e58bf",
   "metadata": {},
   "source": [
    "### Prepare the submission to Kaggle"
   ]
  },
  {
   "cell_type": "code",
   "execution_count": 13,
   "id": "515dfb4c",
   "metadata": {},
   "outputs": [],
   "source": [
    "submission = pd.DataFrame(fhe_predictions, columns=[\"Survived\"], index=range(892, 892 + 418))\n",
    "submission.index.name = \"PassengerId\"\n",
    "submission.to_csv(\"titanic_submission.csv\")"
   ]
  }
 ],
 "metadata": {
  "execution": {
   "timeout": 10800
  }
 },
 "nbformat": 4,
 "nbformat_minor": 5
}
