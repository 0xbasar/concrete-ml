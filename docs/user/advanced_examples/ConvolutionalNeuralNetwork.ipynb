{
 "cells": [
  {
   "cell_type": "markdown",
   "id": "b760a0f6",
   "metadata": {},
   "source": [
    "# Convolutional Neural Network\n",
    "\n",
    "This example shows how to design a simple CNN and how to measure the maximum accumulator bit width. \n",
    "We further show the impact of strong post-training quantization on accuracy. The maximum accumulator \n",
    "bit width that is currently allowed in Concrete-ML is **8** bits.\n",
    "\n",
    "We simulate the FHE circuit of a CNN with the Virtual Lib, a tool that provides design-time \n",
    "information and helps to construct FHE compatible models. Please note that we are not \n",
    "compiling the models to FHE in this example, as the accuracy obtained for the FHE-compatible \n",
    "configuration is too low. The accuracy of NN models, that have more than a few parameters,\n",
    "will be improved in future versions of Concrete-ML."
   ]
  },
  {
   "cell_type": "markdown",
   "id": "253288cf",
   "metadata": {},
   "source": [
    "### Import required modules"
   ]
  },
  {
   "cell_type": "code",
   "execution_count": 1,
   "id": "6200ab62",
   "metadata": {},
   "outputs": [],
   "source": [
    "import numpy as np\n",
    "import torch\n",
    "import torch.utils\n",
    "from concrete.numpy.compilation.configuration import CompilationConfiguration\n",
    "from sklearn.datasets import load_digits\n",
    "from sklearn.model_selection import train_test_split\n",
    "from torch import nn\n",
    "from torch.nn.utils import prune\n",
    "from torch.utils.data import DataLoader, TensorDataset\n",
    "from tqdm import tqdm\n",
    "\n",
    "from concrete.ml.torch.compile import compile_torch_model\n",
    "\n",
    "# And some helpers for visualization.\n",
    "\n",
    "%matplotlib inline\n",
    "\n",
    "import matplotlib.pyplot as plt"
   ]
  },
  {
   "cell_type": "markdown",
   "id": "0ed920ba",
   "metadata": {},
   "source": [
    "### Load the dataset and visualize it"
   ]
  },
  {
   "cell_type": "code",
   "execution_count": 2,
   "id": "b9f955f7",
   "metadata": {},
   "outputs": [
    {
     "data": {
      "image/png": "[encoded data removed]",
      "text/plain": [
       "<Figure size 432x432 with 16 Axes>"
      ]
     },
     "metadata": {
      "needs_background": "light"
     },
     "output_type": "display_data"
    }
   ],
   "source": [
    "X, y = load_digits(return_X_y=True)\n",
    "\n",
    "# The sklearn Digits dataset, though it contains digit images, keeps these images in vectors\n",
    "# so we need to reshape them to 2D first. The images are 8x8 px in size and monochrome\n",
    "X = np.expand_dims(X.reshape((-1, 8, 8)), 1)\n",
    "\n",
    "nplot = 4\n",
    "fig, ax = plt.subplots(nplot, nplot, figsize=(6, 6))\n",
    "for i in range(0, nplot):\n",
    "    for j in range(0, nplot):\n",
    "        ax[i, j].imshow(X[i * nplot + j, ::].squeeze())\n",
    "plt.show()\n",
    "\n",
    "x_train, x_test, y_train, y_test = train_test_split(\n",
    "    X, y, test_size=0.25, shuffle=True, random_state=42\n",
    ")"
   ]
  },
  {
   "cell_type": "markdown",
   "id": "9c5e392d",
   "metadata": {},
   "source": [
    "### Define the neural network\n",
    "\n",
    "Since the accumulator bit width in FHE is small, we prune the convolutional\n",
    "filters to limit the number of connections per neuron.\n",
    "\n",
    "Neural network **pruning** is the process by which the synapses of individual neurons in a layer\n",
    "are forced to have a weight equal to zero. This basically eliminates them from the computation \n",
    "and thus they do not increase the accumulator bit width. It has been shown that neural networks can \n",
    "maintain their accuracy with a degree of pruning that can \n",
    "even exceed 70% for some over-parametrized networks such as VGG16 or large ResNets.\n",
    "\n",
    "See: https://arxiv.org/pdf/2003.03033.pdf, Figure 8 in Section 7.2, for an evaluation on the \n",
    "simple pruning method used in this example."
   ]
  },
  {
   "cell_type": "code",
   "execution_count": 3,
   "id": "f43e2387",
   "metadata": {},
   "outputs": [],
   "source": [
    "class TinyCNN(nn.Module):\n",
    "    \"\"\"A very small CNN to classify the sklearn digits dataset.\n",
    "\n",
    "    This class also allows pruning to a maximum of 10 active neurons, which\n",
    "    should help keep the accumulator bit width low.\n",
    "    \"\"\"\n",
    "\n",
    "    def __init__(self, n_classes) -> None:\n",
    "        \"\"\"Construct the CNN with a configurable number of classes.\"\"\"\n",
    "        super().__init__()\n",
    "\n",
    "        # This network has a total complexity of 1216 MAC\n",
    "        self.conv1 = nn.Conv2d(1, 2, 3, stride=1, padding=0)\n",
    "        self.conv2 = nn.Conv2d(2, 3, 3, stride=2, padding=0)\n",
    "        self.conv3 = nn.Conv2d(3, 16, 2, stride=1, padding=0)\n",
    "        self.fc1 = nn.Linear(16, n_classes)\n",
    "\n",
    "        # Enable pruning, prepared for training\n",
    "        self.toggle_pruning(True)\n",
    "\n",
    "    def toggle_pruning(self, enable):\n",
    "        \"\"\"Enables or removes pruning.\"\"\"\n",
    "\n",
    "        # Maximum number of active neurons (i.e. corresponding weight != 0)\n",
    "        n_active = 10\n",
    "\n",
    "        # Go through all the convolution layers\n",
    "        for layer in (self.conv1, self.conv2, self.conv3):\n",
    "            s = layer.weight.shape\n",
    "\n",
    "            # Compute fan-in (number of inputs to a neuron)\n",
    "            # and fan-out (number of neurons in the layer)\n",
    "            st = [s[0], np.prod(s[1:])]\n",
    "\n",
    "            # The number of input neurons (fan-in) is the product of\n",
    "            # the kernel width x height x inChannels.\n",
    "            if st[1] > n_active:\n",
    "                if enable:\n",
    "                    # This will create a forward hook to create a mask tensor that is multiplied\n",
    "                    # with the weights during forward. The mask will contain 0s or 1s\n",
    "                    prune.l1_unstructured(layer, \"weight\", (st[1] - n_active) * st[0])\n",
    "                else:\n",
    "                    # When disabling pruning, the mask is multiplied with the weights\n",
    "                    # and the result is stored in the weights member\n",
    "                    prune.remove(layer, \"weight\")\n",
    "\n",
    "    def forward(self, x):\n",
    "        \"\"\"Run inference on the tiny CNN, apply the decision layer on the reshaped conv output.\"\"\"\n",
    "\n",
    "        x = self.conv1(x)\n",
    "        x = torch.relu(x)\n",
    "        x = self.conv2(x)\n",
    "        x = torch.relu(x)\n",
    "        x = self.conv3(x)\n",
    "        x = torch.relu(x)\n",
    "        x = x.view(-1, 16)\n",
    "        x = self.fc1(x)\n",
    "        return x"
   ]
  },
  {
   "cell_type": "markdown",
   "id": "a1449d54",
   "metadata": {},
   "source": [
    "### Train the CNN"
   ]
  },
  {
   "cell_type": "code",
   "execution_count": 4,
   "id": "f3035684",
   "metadata": {},
   "outputs": [
    {
     "data": {
      "image/png": "[encoded data removed]",
      "text/plain": [
       "<Figure size 576x288 with 1 Axes>"
      ]
     },
     "metadata": {
      "needs_background": "light"
     },
     "output_type": "display_data"
    }
   ],
   "source": [
    "torch.manual_seed(12538040293833290220)\n",
    "\n",
    "\n",
    "def train_one_epoch(net, optimizer, train_loader):\n",
    "    # Cross Entropy loss for classification when not using a softmax layer in the network\n",
    "    loss = nn.CrossEntropyLoss()\n",
    "\n",
    "    net.train()\n",
    "    avg_loss = 0\n",
    "    for data, target in train_loader:\n",
    "        optimizer.zero_grad()\n",
    "        output = net(data)\n",
    "        loss_net = loss(output, target.long())\n",
    "        loss_net.backward()\n",
    "        optimizer.step()\n",
    "        avg_loss += loss_net.item()\n",
    "\n",
    "    return avg_loss / len(train_loader)\n",
    "\n",
    "\n",
    "# Create the tiny CNN with 10 output classes\n",
    "net = TinyCNN(10)\n",
    "N_EPOCHS = 60\n",
    "\n",
    "# Create a train data loader\n",
    "train_dataset = TensorDataset(torch.Tensor(x_train), torch.Tensor(y_train))\n",
    "train_dataloader = DataLoader(train_dataset, batch_size=64)\n",
    "\n",
    "# Create a test data loader to supply batches for network evaluation (test)\n",
    "test_dataset = TensorDataset(torch.Tensor(x_test), torch.Tensor(y_test))\n",
    "test_dataloader = DataLoader(test_dataset)\n",
    "\n",
    "# Train the network with Adam, output the test set accuracy every epoch\n",
    "optimizer = torch.optim.Adam(net.parameters())\n",
    "losses = []\n",
    "for _ in range(N_EPOCHS):\n",
    "    losses.append(train_one_epoch(net, optimizer, train_dataloader))\n",
    "\n",
    "# Finally, disable pruning (sets the pruned weights to 0)\n",
    "net.toggle_pruning(False)\n",
    "\n",
    "fig = plt.figure(figsize=(8, 4))\n",
    "plt.plot(losses)\n",
    "plt.ylabel(\"Cross Entropy Loss\")\n",
    "plt.xlabel(\"Epoch\")\n",
    "plt.grid(True)\n",
    "plt.title(\"Training set loss during training\")\n",
    "plt.show()"
   ]
  },
  {
   "cell_type": "markdown",
   "id": "303fdc93",
   "metadata": {},
   "source": [
    "### Test the torch network in fp32"
   ]
  },
  {
   "cell_type": "code",
   "execution_count": 5,
   "id": "822f1736",
   "metadata": {},
   "outputs": [
    {
     "name": "stdout",
     "output_type": "stream",
     "text": [
      "Test accuracy: 90.00%\n"
     ]
    }
   ],
   "source": [
    "def test_torch(net, test_loader):\n",
    "    \"\"\"Test the network: measure accuracy on the test set.\"\"\"\n",
    "\n",
    "    # Freeze normalization layers\n",
    "    net.eval()\n",
    "\n",
    "    all_y_pred = np.zeros((len(test_loader)), dtype=np.int32)\n",
    "    all_targets = np.zeros((len(test_loader)), dtype=np.int32)\n",
    "\n",
    "    # Iterate over the batches\n",
    "    idx = 0\n",
    "    for data, target in test_loader:\n",
    "        # Accumulate the ground truth labels\n",
    "        endidx = idx + target.shape[0]\n",
    "        all_targets[idx:endidx] = target.numpy()\n",
    "\n",
    "        # Run forward and get the predicted class id\n",
    "        output = net(data).argmax(1).detach().numpy()\n",
    "        all_y_pred[idx:endidx] = output\n",
    "\n",
    "        idx += target.shape[0]\n",
    "\n",
    "    # Print out the accuracy as a percentage\n",
    "    n_correct = np.sum(all_targets == all_y_pred)\n",
    "    print(f\"Test accuracy: {n_correct / len(test_loader) * 100:.2f}%\")\n",
    "\n",
    "\n",
    "test_torch(net, test_dataloader)"
   ]
  },
  {
   "cell_type": "markdown",
   "id": "4cccf0b5",
   "metadata": {},
   "source": [
    "### Test the network with quantification using the Virtual Lib\n",
    "\n",
    "Note that this is not a test in FHE. The Virtual Lib only simulates an FHE circuit to give \n",
    "insight on the number of accumulator bits that are needed."
   ]
  },
  {
   "cell_type": "code",
   "execution_count": null,
   "id": "978a6c4b",
   "metadata": {},
   "outputs": [
    {
     "name": "stderr",
     "output_type": "stream",
     "text": [
      "/Users/benoitchevalliermames/Documents/Zama/Git/concrete-ml-internal/.venv/lib/python3.9/site-packages/torch/onnx/symbolic_helper.py:719: UserWarning: allowzero=0 by default. In order to honor zero value in shape use allowzero=1\n",
      "  warnings.warn(\"allowzero=0 by default. In order to honor zero value in shape use allowzero=1\")\n"
     ]
    }
   ],
   "source": [
    "cfg = CompilationConfiguration(\n",
    "    dump_artifacts_on_unexpected_failures=False,\n",
    "    enable_unsafe_features=True,  # This is for our tests only, never use that in prod\n",
    "    # BCM treat_warnings_as_errors=True,\n",
    "    use_insecure_key_cache=False,\n",
    ")\n",
    "\n",
    "\n",
    "def test_with_concrete_virtual_lib(quantized_module, test_loader, use_fhe, use_vl):\n",
    "    \"\"\"Test a neural network that is quantized and compiled with Concrete-ML.\"\"\"\n",
    "\n",
    "    # When running in FHE, we cast inputs to uint8, but when running using the Virtual Lib (VL)\n",
    "    # we may want inputs to exceed 8b to test quantization performance. Thus,\n",
    "    # for VL we cast to int32\n",
    "    dtype_inputs = np.uint8 if use_fhe else np.int32\n",
    "    all_y_pred = np.zeros((len(test_loader)), dtype=np.int32)\n",
    "    all_targets = np.zeros((len(test_loader)), dtype=np.int32)\n",
    "\n",
    "    # Iterate over the test batches and accumulate predictions and ground truth labels in a vector\n",
    "    idx = 0\n",
    "    for data, target in tqdm(test_loader):\n",
    "        data = data.numpy()\n",
    "        # Quantize the inputs and cast to appropriate data type\n",
    "        x_test_q = quantized_module.quantize_input(data).astype(dtype_inputs)\n",
    "\n",
    "        # Accumulate the ground truth labels\n",
    "        endidx = idx + target.shape[0]\n",
    "        all_targets[idx:endidx] = target.numpy()\n",
    "\n",
    "        # Iterate over single inputs\n",
    "        for i in range(x_test_q.shape[0]):\n",
    "            # Inputs must have size (N, C, H, W), we add the batch dimension with N=1\n",
    "            x_q = np.expand_dims(x_test_q[i, :], 0)\n",
    "\n",
    "            # Execute either in FHE (compiled or VL) or just in quantized\n",
    "            if use_fhe or use_vl:\n",
    "                out_fhe = quantized_module.forward_fhe.encrypt_run_decrypt(x_q)\n",
    "                output = quantized_module.dequantize_output(out_fhe)\n",
    "            else:\n",
    "                output = quantized_module.forward_and_dequant(x_q)\n",
    "\n",
    "            # Take the predicted class from the outputs and store it\n",
    "            y_pred = np.argmax(output, 1)\n",
    "            all_y_pred[idx] = y_pred\n",
    "            idx += 1\n",
    "\n",
    "    # Compute and report results\n",
    "    n_correct = np.sum(all_targets == all_y_pred)\n",
    "    return n_correct / len(test_loader)\n",
    "\n",
    "\n",
    "accs = []\n",
    "accum_bits = []\n",
    "for n_bits in range(2, 9):\n",
    "    # Compile and test the network with the Virtual Lib on the whole test set\n",
    "    q_module_vl = compile_torch_model(\n",
    "        net,\n",
    "        x_train,\n",
    "        n_bits=n_bits,\n",
    "        use_virtual_lib=True,\n",
    "        configuration=cfg,\n",
    "    )\n",
    "    # pylint: disable=no-member\n",
    "    # BCM accum_bits.append(q_module_vl.forward_fhe.get_max_bit_width())\n",
    "    # pylint: enable=no-member\n",
    "\n",
    "    accs.append(\n",
    "        test_with_concrete_virtual_lib(\n",
    "            q_module_vl,\n",
    "            test_dataloader,\n",
    "            use_fhe=False,\n",
    "            use_vl=True,\n",
    "        )\n",
    "    )"
   ]
  },
  {
   "cell_type": "markdown",
   "id": "da4666bf",
   "metadata": {},
   "source": [
    "### Analysis of quantized results\n",
    "\n",
    "We plot the accuracies obtained for various levels of quantization of weights and activations. \n",
    "In addition, we plot the maximum accumulator bit width required to run inference of the network for\n",
    "each weight and activation bit width. This accumulator bit width is measured by the Virtual Lib and \n",
    "can be very useful in designing FHE-compatible neural networks."
   ]
  },
  {
   "cell_type": "code",
   "execution_count": null,
   "id": "5b31947f",
   "metadata": {},
   "outputs": [],
   "source": [
    "fig = plt.figure(figsize=(12, 8))\n",
    "plt.rcParams[\"font.size\"] = 14\n",
    "plt.plot(range(2, 9), accs, \"-x\")\n",
    "for bits, acc, accum in zip(range(2, 9), accs, accum_bits):\n",
    "    plt.gca().annotate(str(accum), (bits - 0.1, acc + 0.025))\n",
    "plt.ylabel(\"Accuracy on test set\")\n",
    "plt.xlabel(\"Weight & activation quantization\")\n",
    "plt.grid(True)\n",
    "plt.title(\"Accuracy for varying quantization bit width\")\n",
    "plt.show()"
   ]
  },
  {
   "cell_type": "markdown",
   "id": "550f48bf",
   "metadata": {},
   "source": [
    "### Conclusion\n",
    "\n",
    "We see that quantization with **2** bit weight and activations is the only viable FHE configuration,\n",
    "as the accumulator bit width for this configuration is **5-6** bits (can vary due to the final \n",
    "distribution of the weights). \n",
    "\n",
    "We further see that the number of bits for weigths and activations to achieve an accuracy comparable\n",
    "to the floating point accuracy is at least **5** bits and requires a **12** bit accumulator."
   ]
  }
 ],
 "metadata": {
  "execution": {
   "timeout": 10800
  }
 },
 "nbformat": 4,
 "nbformat_minor": 5
}
