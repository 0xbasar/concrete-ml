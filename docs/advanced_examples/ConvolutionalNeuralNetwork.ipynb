{
 "cells": [
  {
   "cell_type": "markdown",
   "id": "b760a0f6",
   "metadata": {},
   "source": [
    "# Convolutional Neural Network\n",
    "\n",
    "This example shows how to design a simple quantization aware training CNN and how to measure \n",
    "the maximum accumulator bit width. We further show the impact of quantization on accuracy. \n",
    "\n",
    "To analyze the potential FHE-compatible quantization configurations, we simulate the FHE circuit \n",
    "of the CNN with the Virtual Lib, a tool that provides design-time \n",
    "information and helps to construct FHE compatible models. The maximum accumulator \n",
    "bit width that is currently allowed in Concrete-ML is **8** bits, which limits the bitwidths \n",
    "that are usable for weights and activations.\n",
    "\n",
    "We find an FHE compatible configuration for 3 bits weights and activations and run the CNN in FHE.\n",
    "The accuracy in this highly quantized configuration is 91%. "
   ]
  },
  {
   "cell_type": "markdown",
   "id": "253288cf",
   "metadata": {},
   "source": [
    "### Import required modules"
   ]
  },
  {
   "cell_type": "code",
   "execution_count": 19,
   "id": "6200ab62",
   "metadata": {},
   "outputs": [],
   "source": [
    "import time\n",
    "\n",
    "import numpy as np\n",
    "import torch\n",
    "import torch.utils\n",
    "from concrete.numpy.compilation.configuration import Configuration\n",
    "from sklearn.datasets import load_digits\n",
    "from sklearn.model_selection import train_test_split\n",
    "from torch import nn\n",
    "from torch.nn.utils import prune\n",
    "from torch.utils.data import DataLoader, TensorDataset\n",
    "from tqdm import tqdm\n",
    "\n",
    "# And some helpers for visualization.\n",
    "\n",
    "%matplotlib inline\n",
    "\n",
    "import matplotlib.pyplot as plt"
   ]
  },
  {
   "cell_type": "markdown",
   "id": "0ed920ba",
   "metadata": {},
   "source": [
    "### Load the dataset and visualize it"
   ]
  },
  {
   "cell_type": "code",
   "execution_count": 20,
   "id": "b9f955f7",
   "metadata": {},
   "outputs": [
    {
     "data": {
      "image/png": "[encoded data removed]",
      "text/plain": [
       "<Figure size 432x432 with 16 Axes>"
      ]
     },
     "metadata": {
      "needs_background": "light"
     },
     "output_type": "display_data"
    }
   ],
   "source": [
    "X, y = load_digits(return_X_y=True)\n",
    "\n",
    "# The sklearn Digits dataset, though it contains digit images, keeps these images in vectors\n",
    "# so we need to reshape them to 2D first. The images are 8x8 px in size and monochrome\n",
    "X = np.expand_dims(X.reshape((-1, 8, 8)), 1)\n",
    "\n",
    "nplot = 4\n",
    "fig, ax = plt.subplots(nplot, nplot, figsize=(6, 6))\n",
    "for i in range(0, nplot):\n",
    "    for j in range(0, nplot):\n",
    "        ax[i, j].imshow(X[i * nplot + j, ::].squeeze())\n",
    "plt.show()\n",
    "\n",
    "x_train, x_test, y_train, y_test = train_test_split(\n",
    "    X, y, test_size=0.25, shuffle=True, random_state=42\n",
    ")"
   ]
  },
  {
   "cell_type": "markdown",
   "id": "9c5e392d",
   "metadata": {},
   "source": [
    "### Define the neural network\n",
    "\n",
    "Since the accumulator bit width in FHE is small, we prune the convolutional\n",
    "filters to limit the number of connections per neuron.\n",
    "\n",
    "Neural network **pruning** is the process by which the synapses of individual neurons in a layer\n",
    "are forced to have a weight equal to zero. This basically eliminates them from the computation \n",
    "and thus they do not increase the accumulator bit width. It has been shown that neural networks can \n",
    "maintain their accuracy with a degree of pruning that can \n",
    "even exceed 70% for some over-parametrized networks such as VGG16 or large ResNets.\n",
    "\n",
    "See: https://arxiv.org/pdf/2003.03033.pdf, Figure 8 in Section 7.2, for an evaluation on the \n",
    "simple pruning method used in this example."
   ]
  },
  {
   "cell_type": "code",
   "execution_count": 21,
   "id": "f43e2387",
   "metadata": {},
   "outputs": [],
   "source": [
    "import brevitas.nn as qnn\n",
    "\n",
    "\n",
    "class TinyCNN(nn.Module):\n",
    "    \"\"\"A very small CNN to classify the sklearn digits dataset.\n",
    "\n",
    "    This class also allows pruning to a maximum of 10 active neurons, which\n",
    "    should help keep the accumulator bit width low.\n",
    "    \"\"\"\n",
    "\n",
    "    def __init__(self, n_classes, n_bits) -> None:\n",
    "        \"\"\"Construct the CNN with a configurable number of classes.\"\"\"\n",
    "        super().__init__()\n",
    "\n",
    "        a_bits = n_bits\n",
    "        w_bits = n_bits\n",
    "\n",
    "        # This network has a total complexity of 1216 MAC\n",
    "        self.q1 = qnn.QuantIdentity(bit_width=a_bits, return_quant_tensor=True)\n",
    "        self.conv1 = qnn.QuantConv2d(1, 8, 3, stride=1, padding=0, weight_bit_width=w_bits)\n",
    "        self.q2 = qnn.QuantIdentity(bit_width=a_bits, return_quant_tensor=True)\n",
    "        self.conv2 = qnn.QuantConv2d(8, 16, 3, stride=2, padding=0, weight_bit_width=w_bits)\n",
    "        self.q3 = qnn.QuantIdentity(bit_width=a_bits, return_quant_tensor=True)\n",
    "        self.conv3 = qnn.QuantConv2d(16, 32, 2, stride=1, padding=0, weight_bit_width=w_bits)\n",
    "        self.q4 = qnn.QuantIdentity(bit_width=a_bits, return_quant_tensor=True)\n",
    "        self.fc1 = qnn.QuantLinear(\n",
    "            32,\n",
    "            n_classes,\n",
    "            bias=True,\n",
    "            weight_bit_width=w_bits,\n",
    "        )\n",
    "\n",
    "        # Enable pruning, prepared for training\n",
    "        self.toggle_pruning(True)\n",
    "\n",
    "    def toggle_pruning(self, enable):\n",
    "        \"\"\"Enables or removes pruning.\"\"\"\n",
    "\n",
    "        # Maximum number of active neurons (i.e. corresponding weight != 0)\n",
    "        n_active = 12\n",
    "\n",
    "        # Go through all the convolution layers\n",
    "        for layer in (self.conv1, self.conv2, self.conv3):\n",
    "            s = layer.weight.shape\n",
    "\n",
    "            # Compute fan-in (number of inputs to a neuron)\n",
    "            # and fan-out (number of neurons in the layer)\n",
    "            st = [s[0], np.prod(s[1:])]\n",
    "\n",
    "            # The number of input neurons (fan-in) is the product of\n",
    "            # the kernel width x height x inChannels.\n",
    "            if st[1] > n_active:\n",
    "                if enable:\n",
    "                    # This will create a forward hook to create a mask tensor that is multiplied\n",
    "                    # with the weights during forward. The mask will contain 0s or 1s\n",
    "                    prune.l1_unstructured(layer, \"weight\", (st[1] - n_active) * st[0])\n",
    "                else:\n",
    "                    # When disabling pruning, the mask is multiplied with the weights\n",
    "                    # and the result is stored in the weights member\n",
    "                    prune.remove(layer, \"weight\")\n",
    "\n",
    "    def forward(self, x):\n",
    "        \"\"\"Run inference on the tiny CNN, apply the decision layer on the reshaped conv output.\"\"\"\n",
    "\n",
    "        x = self.q1(x)\n",
    "        x = self.conv1(x)\n",
    "        x = torch.relu(x)\n",
    "        x = self.q2(x)\n",
    "        x = self.conv2(x)\n",
    "        x = torch.relu(x)\n",
    "        x = self.q3(x)\n",
    "        x = self.conv3(x)\n",
    "        x = torch.relu(x)\n",
    "        x = self.q4(x)\n",
    "        x = x.flatten(1)\n",
    "        x = self.fc1(x)\n",
    "        return x"
   ]
  },
  {
   "cell_type": "markdown",
   "id": "a1449d54",
   "metadata": {},
   "source": [
    "### Train the CNN"
   ]
  },
  {
   "cell_type": "markdown",
   "id": "518771f3",
   "metadata": {},
   "source": [
    "Note that the training code for quantization aware training is the same as it would be for\n",
    "floating point training. Indeed, the Brevitas layers used in the CNN class will handle\n",
    "quantization during training. \n",
    "\n",
    "We train the network for varying weights and activations bitwidth, to find an FHE compatible \n",
    "configuration."
   ]
  },
  {
   "cell_type": "code",
   "execution_count": 22,
   "id": "f3035684",
   "metadata": {},
   "outputs": [
    {
     "name": "stderr",
     "output_type": "stream",
     "text": [
      "Training with 2 bit weights and activations: 100%|██████████| 150/150 [00:32<00:00,  4.59it/s]\n",
      "Training with 3 bit weights and activations: 100%|██████████| 150/150 [00:30<00:00,  4.89it/s]\n",
      "Training with 4 bit weights and activations: 100%|██████████| 150/150 [00:30<00:00,  4.91it/s]\n",
      "Training with 5 bit weights and activations: 100%|██████████| 150/150 [00:33<00:00,  4.51it/s]\n",
      "Training with 6 bit weights and activations: 100%|██████████| 150/150 [00:31<00:00,  4.69it/s]\n",
      "Training with 7 bit weights and activations: 100%|██████████| 150/150 [00:31<00:00,  4.71it/s]\n",
      "Training with 8 bit weights and activations: 100%|██████████| 150/150 [00:31<00:00,  4.72it/s]\n"
     ]
    },
    {
     "data": {
      "image/png": "[encoded data removed]",
      "text/plain": [
       "<Figure size 576x288 with 1 Axes>"
      ]
     },
     "metadata": {
      "needs_background": "light"
     },
     "output_type": "display_data"
    }
   ],
   "source": [
    "torch.manual_seed(42)\n",
    "\n",
    "\n",
    "def train_one_epoch(net, optimizer, train_loader):\n",
    "    # Cross Entropy loss for classification when not using a softmax layer in the network\n",
    "    loss = nn.CrossEntropyLoss()\n",
    "\n",
    "    net.train()\n",
    "    avg_loss = 0\n",
    "    for data, target in train_loader:\n",
    "        optimizer.zero_grad()\n",
    "        output = net(data)\n",
    "        loss_net = loss(output, target.long())\n",
    "        loss_net.backward()\n",
    "        optimizer.step()\n",
    "        avg_loss += loss_net.item()\n",
    "\n",
    "    return avg_loss / len(train_loader)\n",
    "\n",
    "\n",
    "# Create the tiny CNN with 10 output classes\n",
    "N_EPOCHS = 150\n",
    "\n",
    "# Create a train data loader\n",
    "train_dataset = TensorDataset(torch.Tensor(x_train), torch.Tensor(y_train))\n",
    "train_dataloader = DataLoader(train_dataset, batch_size=64)\n",
    "\n",
    "# Create a test data loader to supply batches for network evaluation (test)\n",
    "test_dataset = TensorDataset(torch.Tensor(x_test), torch.Tensor(y_test))\n",
    "test_dataloader = DataLoader(test_dataset)\n",
    "\n",
    "nets = []\n",
    "bit_range = range(2, 9)\n",
    "\n",
    "# Train the network with Adam, output the test set accuracy every epoch\n",
    "losses = []\n",
    "for n_bits in bit_range:\n",
    "    net = TinyCNN(10, n_bits)\n",
    "    losses_bits = []\n",
    "    optimizer = torch.optim.Adam(net.parameters())\n",
    "    for _ in tqdm(range(N_EPOCHS), desc=f\"Training with {n_bits} bit weights and activations\"):\n",
    "        losses_bits.append(train_one_epoch(net, optimizer, train_dataloader))\n",
    "    losses.append(losses_bits)\n",
    "\n",
    "    # Finally, disable pruning (sets the pruned weights to 0)\n",
    "    net.toggle_pruning(False)\n",
    "    nets.append(net)\n",
    "\n",
    "fig = plt.figure(figsize=(8, 4))\n",
    "for losses_bits in losses:\n",
    "    plt.plot(losses_bits)\n",
    "plt.ylabel(\"Cross Entropy Loss\")\n",
    "plt.xlabel(\"Epoch\")\n",
    "plt.legend(list(map(str, bit_range)))\n",
    "plt.grid(True)\n",
    "plt.title(\"Training set loss during training\")\n",
    "plt.show()"
   ]
  },
  {
   "cell_type": "markdown",
   "id": "303fdc93",
   "metadata": {},
   "source": [
    "### Test the torch network in fp32"
   ]
  },
  {
   "cell_type": "code",
   "execution_count": 23,
   "id": "822f1736",
   "metadata": {},
   "outputs": [
    {
     "name": "stdout",
     "output_type": "stream",
     "text": [
      "Test accuracy for 2 bit weights and activations: 73.33%\n",
      "Test accuracy for 3 bit weights and activations: 90.89%\n",
      "Test accuracy for 4 bit weights and activations: 97.56%\n",
      "Test accuracy for 5 bit weights and activations: 95.78%\n",
      "Test accuracy for 6 bit weights and activations: 97.11%\n",
      "Test accuracy for 7 bit weights and activations: 97.11%\n",
      "Test accuracy for 8 bit weights and activations: 96.89%\n"
     ]
    }
   ],
   "source": [
    "def test_torch(net, n_bits, test_loader):\n",
    "    \"\"\"Test the network: measure accuracy on the test set.\"\"\"\n",
    "\n",
    "    # Freeze normalization layers\n",
    "    net.eval()\n",
    "\n",
    "    all_y_pred = np.zeros((len(test_loader)), dtype=np.int32)\n",
    "    all_targets = np.zeros((len(test_loader)), dtype=np.int32)\n",
    "\n",
    "    # Iterate over the batches\n",
    "    idx = 0\n",
    "    for data, target in test_loader:\n",
    "        # Accumulate the ground truth labels\n",
    "        endidx = idx + target.shape[0]\n",
    "        all_targets[idx:endidx] = target.numpy()\n",
    "\n",
    "        # Run forward and get the predicted class id\n",
    "        output = net(data).argmax(1).detach().numpy()\n",
    "        all_y_pred[idx:endidx] = output\n",
    "\n",
    "        idx += target.shape[0]\n",
    "\n",
    "    # Print out the accuracy as a percentage\n",
    "    n_correct = np.sum(all_targets == all_y_pred)\n",
    "    print(\n",
    "        f\"Test accuracy for {n_bits} bit weights and activations: \"\n",
    "        f\"{n_correct / len(test_loader) * 100:.2f}%\"\n",
    "    )\n",
    "\n",
    "\n",
    "for idx, net in enumerate(nets):\n",
    "    test_torch(net, bit_range[idx], test_dataloader)"
   ]
  },
  {
   "cell_type": "markdown",
   "id": "9a14bc3f",
   "metadata": {},
   "source": [
    "### Define the Concrete-ML testing function\n",
    "\n",
    "We introduce the `test_with_concrete` function which allows us to test a Concrete-ML model in one of two modes:\n",
    "- in FHE\n",
    "- in the clear, with the Virtual Library, which simulates FHE execution\n",
    "\n",
    "Note that it is trivial to toggle between between the two modes. "
   ]
  },
  {
   "cell_type": "code",
   "execution_count": 17,
   "id": "978a6c4b",
   "metadata": {},
   "outputs": [],
   "source": [
    "cfg = Configuration(\n",
    "    dump_artifacts_on_unexpected_failures=False,\n",
    "    enable_unsafe_features=True,  # This is for our tests only, never use that in prod\n",
    ")\n",
    "\n",
    "\n",
    "def test_with_concrete(quantized_module, test_loader, use_fhe, use_vl):\n",
    "    \"\"\"Test a neural network that is quantized and compiled with Concrete-ML.\"\"\"\n",
    "\n",
    "    # When running in FHE, we cast inputs to uint8, but when running using the Virtual Lib (VL)\n",
    "    # we may want inputs to exceed 8b to test quantization performance. Thus,\n",
    "    # for VL we cast to int32\n",
    "    dtype_inputs = np.uint8 if use_fhe else np.int32\n",
    "    all_y_pred = np.zeros((len(test_loader)), dtype=np.int32)\n",
    "    all_targets = np.zeros((len(test_loader)), dtype=np.int32)\n",
    "\n",
    "    # Iterate over the test batches and accumulate predictions and ground truth labels in a vector\n",
    "    idx = 0\n",
    "    for data, target in tqdm(test_loader):\n",
    "        data = data.numpy()\n",
    "\n",
    "        # Quantize the inputs and cast to appropriate data type\n",
    "        x_test_q = quantized_module.quantize_input(data).astype(dtype_inputs)\n",
    "\n",
    "        # Accumulate the ground truth labels\n",
    "        endidx = idx + target.shape[0]\n",
    "        all_targets[idx:endidx] = target.numpy()\n",
    "\n",
    "        # Iterate over single inputs\n",
    "        for i in range(x_test_q.shape[0]):\n",
    "            # Inputs must have size (N, C, H, W), we add the batch dimension with N=1\n",
    "            x_q = np.expand_dims(x_test_q[i, :], 0)\n",
    "\n",
    "            # Execute either in FHE (compiled or VL) or just in quantized\n",
    "            if use_fhe or use_vl:\n",
    "                out_fhe = quantized_module.forward_fhe.encrypt_run_decrypt(x_q)\n",
    "                output = quantized_module.dequantize_output(out_fhe)\n",
    "            else:\n",
    "                output = quantized_module.forward_and_dequant(x_q)\n",
    "\n",
    "            # Take the predicted class from the outputs and store it\n",
    "            y_pred = np.argmax(output, 1)\n",
    "            all_y_pred[idx] = y_pred\n",
    "            idx += 1\n",
    "\n",
    "    # Compute and report results\n",
    "    n_correct = np.sum(all_targets == all_y_pred)\n",
    "    return n_correct / len(test_loader)"
   ]
  },
  {
   "cell_type": "markdown",
   "id": "4cccf0b5",
   "metadata": {},
   "source": [
    "### Test the network using the Virtual Lib\n",
    "\n",
    "Note that this is not a test in FHE. The Virtual Lib only simulates an FHE circuit to give \n",
    "insight on the number of accumulator bits that are needed.\n",
    "\n",
    "The torch/brevitas neural network is quantized during training and, for inference, it is converted \n",
    "to FHE by Concrete-ML using a dedicated function, `compile_brevitas_qat_model`.\n",
    "\n",
    "In this test we determine the accuracy and accumulator bit-widths for the various quantization settings\n",
    "that are trained above."
   ]
  },
  {
   "cell_type": "code",
   "execution_count": 24,
   "id": "33250d57",
   "metadata": {},
   "outputs": [
    {
     "name": "stderr",
     "output_type": "stream",
     "text": [
      "100%|██████████| 450/450 [00:10<00:00, 41.49it/s]"
     ]
    },
    {
     "name": "stdout",
     "output_type": "stream",
     "text": [
      "VirtualLib execution for 2 bit network: 10.05s, 44.76it/s\n",
      "VirtualLib execution for 3 bit network: 10.63s, 42.34it/s\n",
      "VirtualLib execution for 4 bit network: 10.91s, 41.23it/s\n",
      "VirtualLib execution for 5 bit network: 11.26s, 39.96it/s\n",
      "VirtualLib execution for 6 bit network: 11.64s, 38.67it/s\n",
      "VirtualLib execution for 7 bit network: 10.97s, 41.03it/s\n",
      "VirtualLib execution for 8 bit network: 10.85s, 41.48it/s\n"
     ]
    },
    {
     "name": "stderr",
     "output_type": "stream",
     "text": [
      "\n"
     ]
    }
   ],
   "source": [
    "# Pytorch produces some warnings when exporting custom ONNX, we remove this output\n",
    "from IPython.display import clear_output\n",
    "\n",
    "from concrete.ml.torch.compile import compile_brevitas_qat_model\n",
    "\n",
    "accs = []\n",
    "accum_bits = []\n",
    "vl_time = []\n",
    "\n",
    "models = []\n",
    "for idx, n_bits in enumerate(bit_range):\n",
    "    n_bits = {\n",
    "        \"net_inputs\": max(8, n_bits),\n",
    "        \"op_inputs\": n_bits,\n",
    "        \"op_weights\": n_bits,\n",
    "        \"net_outputs\": max(8, n_bits),\n",
    "    }\n",
    "\n",
    "    q_module_vl = compile_brevitas_qat_model(\n",
    "        nets[idx], x_train, n_bits, use_virtual_lib=True, configuration=cfg\n",
    "    )\n",
    "\n",
    "    clear_output()\n",
    "\n",
    "    accum_bits.append(q_module_vl.forward_fhe.graph.maximum_integer_bit_width())\n",
    "\n",
    "    start_time = time.time()\n",
    "    accs.append(\n",
    "        test_with_concrete(\n",
    "            q_module_vl,\n",
    "            test_dataloader,\n",
    "            use_fhe=False,\n",
    "            use_vl=False,\n",
    "        )\n",
    "    )\n",
    "    vl_time.append(time.time() - start_time)\n",
    "\n",
    "for idx, vl_time_bits in enumerate(vl_time):\n",
    "    print(\n",
    "        f\"VirtualLib execution for {bit_range[idx]} bit network: {vl_time_bits:.2f}s, \"\n",
    "        f\"{len(test_dataloader) / vl_time_bits:.2f}it/s\"\n",
    "    )"
   ]
  },
  {
   "cell_type": "markdown",
   "id": "da4666bf",
   "metadata": {},
   "source": [
    "### Analysis of quantized results\n",
    "\n",
    "We plot the accuracies obtained for various levels of quantization of weights and activations. \n",
    "In addition, we plot the maximum accumulator bit width required to run inference of the network for\n",
    "each weight and activation bit width. This is shown as the numbers next to the graph markers. \n",
    "\n",
    "This accumulator bit width is measured by the Virtual Lib and can be very useful in designing FHE-compatible neural networks."
   ]
  },
  {
   "cell_type": "code",
   "execution_count": 25,
   "id": "5b31947f",
   "metadata": {},
   "outputs": [
    {
     "data": {
      "image/png": "[encoded data removed]",
      "text/plain": [
       "<Figure size 864x576 with 1 Axes>"
      ]
     },
     "metadata": {
      "needs_background": "light"
     },
     "output_type": "display_data"
    }
   ],
   "source": [
    "fig = plt.figure(figsize=(12, 8))\n",
    "plt.rcParams[\"font.size\"] = 14\n",
    "plt.plot(range(2, 9), accs, \"-x\")\n",
    "for bits, acc, accum in zip(bit_range, accs, accum_bits):\n",
    "    plt.gca().annotate(str(accum), (bits - 0.1, acc + 0.01))\n",
    "plt.ylabel(\"Accuracy on test set\")\n",
    "plt.xlabel(\"Weight & activation quantization\")\n",
    "plt.grid(True)\n",
    "plt.title(\n",
    "    \"Accuracy for varying quantization bit width. Accumulator bit-width shown on graph markers\"\n",
    ")\n",
    "plt.show()"
   ]
  },
  {
   "cell_type": "markdown",
   "id": "7acb5a3f",
   "metadata": {},
   "source": [
    "### Test the CNN in FHE\n",
    "\n",
    "We identify 3 bit weights and activations as a configuration for which the maximum accumulator size\n",
    "respects FHE constraints. \n",
    "\n",
    "We can now compile to FHE and execute on encrypted data."
   ]
  },
  {
   "cell_type": "markdown",
   "id": "a218aff7",
   "metadata": {},
   "source": [
    "### 1. Compile to FHE"
   ]
  },
  {
   "cell_type": "code",
   "execution_count": 11,
   "id": "16fa5e3b",
   "metadata": {},
   "outputs": [],
   "source": [
    "bits_for_fhe = 3\n",
    "idx_bits_fhe = bit_range.index(bits_for_fhe)\n",
    "\n",
    "accum_bits_required = accum_bits[idx_bits_fhe]\n",
    "\n",
    "q_module_fhe = None\n",
    "if accum_bits_required > 8:\n",
    "    raise Exception(\n",
    "        \"**ERROR: The trained network exceeds FHE constraints \"\n",
    "        \"(accumulator size is too big). \"\n",
    "        \"This can occur due to randomness in initialization and training. On average the 3 bits \"\n",
    "        \"weights and activations configuration should give 8 bit accumulators, but this particular \"\n",
    "        \"training instance was unlucky. Please re-run the notebook!\"\n",
    "    )\n",
    "\n",
    "net = nets[idx_bits_fhe]\n",
    "\n",
    "q_module_fhe = compile_brevitas_qat_model(\n",
    "    net,\n",
    "    x_train,\n",
    "    n_bits={\n",
    "        \"net_inputs\": 7,\n",
    "        \"op_inputs\": bits_for_fhe,\n",
    "        \"op_weights\": bits_for_fhe,\n",
    "        \"net_outputs\": 7,\n",
    "    },\n",
    "    use_virtual_lib=False,\n",
    "    configuration=cfg,\n",
    ")\n",
    "\n",
    "clear_output()"
   ]
  },
  {
   "cell_type": "markdown",
   "id": "2875e825",
   "metadata": {},
   "source": [
    "### 2. Generate Keys"
   ]
  },
  {
   "cell_type": "code",
   "execution_count": 10,
   "id": "6e8b6471",
   "metadata": {},
   "outputs": [
    {
     "name": "stdout",
     "output_type": "stream",
     "text": [
      "Keygen time: 4869.69s\n"
     ]
    }
   ],
   "source": [
    "# Generate keys first, this may take some time (up to 30min)\n",
    "t = time.time()\n",
    "q_module_fhe.forward_fhe.keygen()\n",
    "print(f\"Keygen time: {time.time()-t:.2f}s\")"
   ]
  },
  {
   "cell_type": "markdown",
   "id": "a4dd257f",
   "metadata": {},
   "source": [
    "### 3. Execute in FHE on encrypted data"
   ]
  },
  {
   "cell_type": "code",
   "execution_count": 11,
   "id": "5a82392b",
   "metadata": {},
   "outputs": [
    {
     "name": "stderr",
     "output_type": "stream",
     "text": [
      "100%|██████████| 1/1 [02:25<00:00, 145.44s/it]"
     ]
    },
    {
     "name": "stdout",
     "output_type": "stream",
     "text": [
      "Time per inference in FHE: 145.4472141265869\n"
     ]
    },
    {
     "name": "stderr",
     "output_type": "stream",
     "text": [
      "\n"
     ]
    }
   ],
   "source": [
    "# Run inference in FHE on a single encrypted example\n",
    "mini_test_dataset = TensorDataset(torch.Tensor(x_test[[0], :]), torch.Tensor(y_test[[0]]))\n",
    "mini_test_dataloader = DataLoader(mini_test_dataset)\n",
    "\n",
    "t = time.time()\n",
    "test_with_concrete(\n",
    "    q_module_fhe,\n",
    "    mini_test_dataloader,\n",
    "    use_fhe=True,\n",
    "    use_vl=False,\n",
    ")\n",
    "print(\"Time per inference in FHE:\", (time.time() - t) / len(mini_test_dataset))"
   ]
  },
  {
   "cell_type": "markdown",
   "id": "550f48bf",
   "metadata": {},
   "source": [
    "### Conclusion\n",
    "\n",
    "We see that quantization with **3** bit weight and activations is the best viable FHE configuration,\n",
    "as the accumulator bit width for this configuration is **8** bits (can vary due to the final \n",
    "distribution of the weights). The accuracy in this setting, 91% is a few percentage points \n",
    "under the maximum accuracy achievable with larger accumulator bit widths (97-98%). \n",
    "\n",
    "### Perspectives\n",
    "\n",
    "Future versions of Concrete-ML will soon support larger accumulator sizes, allowing quantization\n",
    "aware trained networks to reach their full accuracy potential. \n"
   ]
  }
 ],
 "metadata": {
  "execution": {
   "timeout": 10800
  }
 },
 "nbformat": 4,
 "nbformat_minor": 5
}
