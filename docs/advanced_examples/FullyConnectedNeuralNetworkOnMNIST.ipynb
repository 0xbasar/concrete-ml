{
 "cells": [
  {
   "attachments": {},
   "cell_type": "markdown",
   "metadata": {},
   "source": [
    "# Built-In Fully Connected Neural Network on MNIST \n",
    "\n",
    "In this notebook, we show how to train and evaluate a fully connected neural network on the MNIST classification problem using the Concrete-ML library, our open-source privacy-preserving machine learning framework based on fully homomorphic encryption (FHE).\n",
    "\n",
    "Using a built-in model, this example emphasizes on the API's ease-of-use by illustrating the few main steps needed to create an efficient inference-secured Neural Network classifier. Thanks to the internal implementation of Quantize Aware Training (QAT) techniques, this Concrete-ML `NeuralNetCLassifier` model reaches a high accuracy score. More information about QAT is available in the [QAT notebook](QuantizationAwareTraining.ipynb).\n",
    "\n",
    "More precisely, the model is trained on clear data and its accuracy score is computed using FHE simulation, which is expected to be the same as if it was done in FHE. Then, the inference is executed in FHE on a few samples.\n"
   ]
  },
  {
   "cell_type": "markdown",
   "metadata": {},
   "source": [
    "### Import libraries\n",
    "\n",
    "We import the required packages."
   ]
  },
  {
   "cell_type": "code",
   "execution_count": 1,
   "metadata": {},
   "outputs": [],
   "source": [
    "import time\n",
    "\n",
    "import matplotlib.pyplot as plt\n",
    "import matplotlib.ticker as mtick\n",
    "import numpy as np\n",
    "from concrete.numpy import Configuration\n",
    "from joblib import Memory\n",
    "from sklearn.datasets import fetch_openml\n",
    "from sklearn.metrics import accuracy_score\n",
    "from sklearn.model_selection import train_test_split\n",
    "from torch import nn\n",
    "from tqdm import tqdm\n",
    "\n",
    "from concrete.ml.sklearn import NeuralNetClassifier"
   ]
  },
  {
   "cell_type": "markdown",
   "metadata": {},
   "source": [
    "### Load the data\n",
    "\n",
    "We download the train and test data-sets from OpenML. "
   ]
  },
  {
   "cell_type": "code",
   "execution_count": 2,
   "metadata": {},
   "outputs": [],
   "source": [
    "# scikit-learn's fetch_openml method doesn't handle local cache:\n",
    "# https://github.com/scikit-learn/scikit-learn/issues/18783#issuecomment-723471498\n",
    "# This is a workaround that prevents downloading the data every time the notebook is ran\n",
    "memory = Memory(\"./data/MNIST\")\n",
    "fetch_openml_cached = memory.cache(fetch_openml)\n",
    "\n",
    "# Fetch the MNIST data-set, with inputs already flattened\n",
    "mnist_dataset = fetch_openml_cached(\"mnist_784\")"
   ]
  },
  {
   "attachments": {},
   "cell_type": "markdown",
   "metadata": {},
   "source": [
    "We now need to normalize the values and split the inputs and targets into a test and train data-set. "
   ]
  },
  {
   "cell_type": "code",
   "execution_count": 3,
   "metadata": {},
   "outputs": [],
   "source": [
    "# Define max, mean and std values for the MNIST data-set\n",
    "max_value = 255\n",
    "mean = 0.1307\n",
    "std = 0.3081\n",
    "\n",
    "# Normalize the training data\n",
    "data = (mnist_dataset.data) / max_value\n",
    "data = ((data - mean) / std).round(decimals=4)\n",
    "\n",
    "# CML's NNs do not support: category, str, object types\n",
    "# FIXME: https://github.com/zama-ai/concrete-ml-internal/issues/2990\n",
    "target = mnist_dataset.target.astype(\"int\")"
   ]
  },
  {
   "cell_type": "code",
   "execution_count": 4,
   "metadata": {},
   "outputs": [],
   "source": [
    "test_size = 10000\n",
    "x_train, x_test, y_train, y_test = train_test_split(\n",
    "    data, target, test_size=test_size, random_state=0\n",
    ")"
   ]
  },
  {
   "attachments": {},
   "cell_type": "markdown",
   "metadata": {},
   "source": [
    "Let's plot the first images from the train data."
   ]
  },
  {
   "cell_type": "code",
   "execution_count": 5,
   "metadata": {},
   "outputs": [],
   "source": [
    "def plot_samples(data, targets, n_samples=5, title=\"Train target\"):\n",
    "    # MNIST images are originally of shape 28x28 with grayscale values\n",
    "    samples_to_plot = np.array(data)[:n_samples].reshape((n_samples, 28, 28))\n",
    "\n",
    "    fig = plt.figure(figsize=(30, 30))\n",
    "\n",
    "    for i in range(n_samples):\n",
    "        subplot = fig.add_subplot(1, n_samples, i + 1)\n",
    "        subplot.set_title(f\"{title}: {np.array(targets)[i]}\", fontsize=15)\n",
    "        subplot.imshow(samples_to_plot[i], cmap=\"gray\", interpolation=\"nearest\")"
   ]
  },
  {
   "cell_type": "code",
   "execution_count": 6,
   "metadata": {},
   "outputs": [
    {
     "data": {
      "image/png": "[encoded data removed]",
      "text/plain": [
       "<Figure size 3000x3000 with 5 Axes>"
      ]
     },
     "metadata": {},
     "output_type": "display_data"
    }
   ],
   "source": [
    "plot_samples(x_train, y_train)"
   ]
  },
  {
   "cell_type": "markdown",
   "metadata": {},
   "source": [
    "### Instantiate the model\n",
    "\n",
    "This step is easy to achieve as we use a built-in Fully Connected Neural Network. Only a few input parameters are needed:\n",
    "- `module__n_layers`: number of Fully Connected layers to use in the model\n",
    "- `module__n_w_bits` and `module__n_a_bits`: respectively the number of bits to use for quantizing the weight and input/activation values as the FHE can currently only compute integers. These numbers should not become too large as it can cause the compilation step to fail (see Compile section below)\n",
    "- `module__n_accum_bits`: The maximal allowed bit-width to target for intermediate accumulators. It is currently set to 15 as the actual maximum bit width reached during compilation can be up to one bit higher than this targeted value, in this case 16, which is the maximal value that Concrete-ML currently supports.\n",
    "- `module__n_hidden_neurons_multiplier`: A factor that is multiplied by the maximal number of active (non-zero weight) neurons for every layer. Default to 4 but set to 1 here in order to speed up all executions without changing the test accuracy by much. More detail in the qqn documentation. \n",
    "- `module__activation_function`: The activation function to use\n",
    "- `max_epochs`: The number of epochs to consider"
   ]
  },
  {
   "cell_type": "code",
   "execution_count": 7,
   "metadata": {},
   "outputs": [],
   "source": [
    "params = {\n",
    "    \"module__n_layers\": 2,\n",
    "    \"module__n_w_bits\": 4,\n",
    "    \"module__n_a_bits\": 4,\n",
    "    \"module__n_accum_bits\": 15,\n",
    "    \"module__n_hidden_neurons_multiplier\": 1,\n",
    "    \"module__activation_function\": nn.Sigmoid,\n",
    "    \"max_epochs\": 10,\n",
    "}\n",
    "\n",
    "model = NeuralNetClassifier(**params)"
   ]
  },
  {
   "cell_type": "markdown",
   "metadata": {},
   "source": [
    "### Train the model\n",
    "\n",
    "The fit method handles Pandas DataFrame as inputs."
   ]
  },
  {
   "cell_type": "code",
   "execution_count": 8,
   "metadata": {},
   "outputs": [],
   "source": [
    "model.fit(X=x_train, y=y_train);"
   ]
  },
  {
   "cell_type": "markdown",
   "metadata": {},
   "source": [
    "### Compute predictions in the clear\n",
    "\n",
    "We then compute the accuracy score reached by the model when executed in the clear. It is important to understand that no FHE computations are done here. This step is not necessary but helps illustrate what results should we expect from the model. It is therefore used to demonstrate that FHE computations are exact, meaning the FHE accuracy score will exactly match this very one."
   ]
  },
  {
   "cell_type": "code",
   "execution_count": 9,
   "metadata": {},
   "outputs": [
    {
     "name": "stdout",
     "output_type": "stream",
     "text": [
      "The test accuracy of the clear model is 0.96\n"
     ]
    }
   ],
   "source": [
    "y_preds_clear = model.predict(x_test)\n",
    "\n",
    "print(f\"The test accuracy of the clear model is {accuracy_score(y_test, y_preds_clear):.2f}\")"
   ]
  },
  {
   "cell_type": "markdown",
   "metadata": {},
   "source": [
    "### Compile the model with FHE Simulation\n",
    "\n",
    "A Concrete-ML model needs to be compiled on an inputset, usually the train set or one of its sub-set, before being able to predict. This step creates a FHE circuit, which essentially saves elements found in the model's inference (graph of operations, shapes, bit-width precisions, etc.) needed for the compiler when executing the predictions in FHE during the `predict` method. \n",
    "\n",
    "The maximum bit-width that can be reached by any values (inputs, weights, accumulators) in this circuit is currently 16-bits. If this limit is exceeded, the compilation fails and the user needs to change some of the model's parameters (e.g. decrease the number of quantization bits or decrease `module__n_accum_bits`). \n",
    "\n",
    "<!--- \n",
    "Make it compile in non-VL when 2037 is done\n",
    "FIXME: https://github.com/zama-ai/concrete-ml-internal/issues/2307 \n",
    "-->"
   ]
  },
  {
   "cell_type": "code",
   "execution_count": 10,
   "metadata": {},
   "outputs": [
    {
     "name": "stdout",
     "output_type": "stream",
     "text": [
      "Circuit of 12-bits (FHE simulation)\n"
     ]
    }
   ],
   "source": [
    "# Enable unsafe features in order to be able to simulate in FHE\n",
    "configuration = Configuration(enable_unsafe_features=True)\n",
    "\n",
    "# Reduce the inputset's length to make the compilation time faster\n",
    "# The inputset should be large enough to be representative of the input data\n",
    "inputset = x_train.head(1000)\n",
    "simulated_fhe_circuit = model.compile(inputset, configuration=configuration, use_virtual_lib=True)\n",
    "\n",
    "# Print the circuit's maximum bit-width reached during compilation\n",
    "print(f\"Circuit of {simulated_fhe_circuit.graph.maximum_integer_bit_width()}-bits (FHE simulation)\")"
   ]
  },
  {
   "attachments": {},
   "cell_type": "markdown",
   "metadata": {},
   "source": [
    "### Compute the accuracy score with FHE simulation\n",
    "\n",
    "Now, we compute the accuracy score reached by the FHE model with FHE simulation. The accuracy score obtained by simulation, which is faster, is expected to be the same as the one obtained in FHE."
   ]
  },
  {
   "cell_type": "code",
   "execution_count": 11,
   "metadata": {},
   "outputs": [
    {
     "name": "stdout",
     "output_type": "stream",
     "text": [
      "The test accuracy (with FHE simulation) of the FHE model is 0.96\n"
     ]
    }
   ],
   "source": [
    "# Evaluate the model using the Virtual Library\n",
    "y_preds_simulated = model.predict(x_test, execute_in_fhe=True)\n",
    "\n",
    "print(\n",
    "    \"The test accuracy (with FHE simulation) of the FHE model is \"\n",
    "    f\"{accuracy_score(y_test, y_preds_simulated):.2f}\"\n",
    ")"
   ]
  },
  {
   "cell_type": "markdown",
   "metadata": {},
   "source": [
    "### Prune the model to optimize its inference speed\n",
    "\n",
    "Removing redundant neurons through pruning is a technique that helps improve inference speed. This \n",
    "is particularly useful in FHE as the activation function computation for every neuron is performed\n",
    "through PBS which is computationally expensive. \n",
    "\n",
    "The following code shows how to test multiple pruning amounts, and chooses a pruning amount that\n",
    "preserves the initial accuracy while removing many neurons. "
   ]
  },
  {
   "cell_type": "code",
   "execution_count": 12,
   "metadata": {},
   "outputs": [
    {
     "name": "stdout",
     "output_type": "stream",
     "text": [
      "Pruning  0.00% of neurons.. test accuracy (with FHE simulation) of the FHE model is 0.97\n",
      "Pruning 10.00% of neurons.. test accuracy (with FHE simulation) of the FHE model is 0.97\n",
      "Pruning 20.00% of neurons.. test accuracy (with FHE simulation) of the FHE model is 0.97\n",
      "Pruning 30.00% of neurons.. test accuracy (with FHE simulation) of the FHE model is 0.96\n",
      "Pruning 40.00% of neurons.. test accuracy (with FHE simulation) of the FHE model is 0.95\n",
      "Pruning 50.00% of neurons.. test accuracy (with FHE simulation) of the FHE model is 0.95\n",
      "Pruning 60.00% of neurons.. test accuracy (with FHE simulation) of the FHE model is 0.95\n",
      "Pruning 70.00% of neurons.. test accuracy (with FHE simulation) of the FHE model is 0.92\n",
      "Pruning 80.00% of neurons.. test accuracy (with FHE simulation) of the FHE model is 0.94\n",
      "Pruning 90.00% of neurons.. test accuracy (with FHE simulation) of the FHE model is 0.90\n"
     ]
    },
    {
     "data": {
      "image/png": "[encoded data removed]",
      "text/plain": [
       "<Figure size 800x400 with 1 Axes>"
      ]
     },
     "metadata": {},
     "output_type": "display_data"
    }
   ],
   "source": [
    "pruned_models = {}\n",
    "pruned_acc = []\n",
    "all_prune_pct = np.arange(0.0, 1.0, 0.1)\n",
    "\n",
    "for idx, prune_pct in enumerate(all_prune_pct):\n",
    "    pruned_model = model.prune(x_train, y_train, prune_pct)\n",
    "    pruned_model.compile(inputset, configuration=configuration, use_virtual_lib=True)\n",
    "    y_preds_simulated = pruned_model.predict(x_test, execute_in_fhe=True)\n",
    "    acc_pruned = accuracy_score(y_test, y_preds_simulated)\n",
    "    print(\n",
    "        f\"Pruning {prune_pct*100:5.2f}% of neurons.. test accuracy (with FHE simulation) \"\n",
    "        f\"of the FHE model is {acc_pruned:.2f}\"\n",
    "    )\n",
    "    pruned_acc.append(acc_pruned * 100)\n",
    "    pruned_models[idx] = pruned_model\n",
    "\n",
    "fig, ax = plt.subplots(figsize=(8, 4))\n",
    "xticks = mtick.FormatStrFormatter(fmt=\"%.0f%%\")\n",
    "ax.xaxis.set_major_formatter(xticks)\n",
    "ax.yaxis.set_major_formatter(xticks)\n",
    "plt.plot((all_prune_pct * 100).tolist(), pruned_acc, linewidth=2)\n",
    "plt.title(\"Accuracy with various levels of pruning\")\n",
    "plt.xlabel(\"Percentage of pruned neurons\")\n",
    "plt.ylabel(\"Accuracy\")\n",
    "plt.xlim((0, 90))\n",
    "plt.ylim((0, 100))\n",
    "plt.grid(True)\n",
    "plt.show()"
   ]
  },
  {
   "cell_type": "code",
   "execution_count": 13,
   "metadata": {},
   "outputs": [],
   "source": [
    "def run_inference(model, x_test):\n",
    "\n",
    "    # Execute the predictions using the given model\n",
    "    predictions = []\n",
    "    time_begin = time.time()\n",
    "    for x in tqdm(x_test.to_numpy()):\n",
    "        x = np.expand_dims(x, axis=0)\n",
    "        y_preds = model.predict(x, execute_in_fhe=True)\n",
    "        predictions.append(y_preds[0])\n",
    "    print(f\"Execution time: {(time.time() - time_begin) / len(x_test):.2f} seconds per sample\\n\")\n",
    "\n",
    "    return predictions"
   ]
  },
  {
   "cell_type": "code",
   "execution_count": 14,
   "metadata": {},
   "outputs": [
    {
     "name": "stderr",
     "output_type": "stream",
     "text": [
      "100%|██████████| 3/3 [00:00<00:00, 483.01it/s]"
     ]
    },
    {
     "name": "stdout",
     "output_type": "stream",
     "text": [
      "Execution time: 0.00 seconds per sample\n",
      "\n"
     ]
    },
    {
     "name": "stderr",
     "output_type": "stream",
     "text": [
      "\n"
     ]
    }
   ],
   "source": [
    "# Reduce the test set\n",
    "n_samples = 3\n",
    "x_test_sample = x_test.head(n_samples)\n",
    "y_test_sample = y_test.head(n_samples)\n",
    "\n",
    "# Execute the predictions using FHE simulation on a few samples\n",
    "simulated_fhe_predictions = run_inference(model, x_test_sample)"
   ]
  },
  {
   "attachments": {},
   "cell_type": "markdown",
   "metadata": {},
   "source": [
    "### Compute predictions in FHE\n",
    "\n",
    "Now, let's compute some predictions in FHE. In order to make the computations faster, we will consider a sample of the original test set and compare these results to the expected values.\n",
    "\n",
    "First, we need to compile the model without the Virtual Library."
   ]
  },
  {
   "cell_type": "code",
   "execution_count": 15,
   "metadata": {},
   "outputs": [
    {
     "name": "stdout",
     "output_type": "stream",
     "text": [
      "FHE circuit of 12-bits\n"
     ]
    }
   ],
   "source": [
    "# Reduce the inputset's length to make the compilation time faster\n",
    "inputset = x_train.head(1000)\n",
    "model.compile(inputset)\n",
    "\n",
    "# Print the circuit's maximum bit-width reached during compilation\n",
    "print(f\"FHE circuit of {model.fhe_circuit.graph.maximum_integer_bit_width()}-bits\")"
   ]
  },
  {
   "attachments": {},
   "cell_type": "markdown",
   "metadata": {},
   "source": [
    "Even though this is not mandatory, we can execute the key generation separately from the predictions in order to be able to measure its execution time."
   ]
  },
  {
   "cell_type": "code",
   "execution_count": 16,
   "metadata": {},
   "outputs": [
    {
     "name": "stdout",
     "output_type": "stream",
     "text": [
      "Key generation time: 26.43 seconds\n"
     ]
    }
   ],
   "source": [
    "time_begin = time.time()\n",
    "model.fhe_circuit.client.keygen(force=True)\n",
    "print(f\"Key generation time: {time.time() - time_begin:.2f} seconds\")"
   ]
  },
  {
   "attachments": {},
   "cell_type": "markdown",
   "metadata": {},
   "source": [
    "Let's predict a few samples using FHE. Be aware that a single execution can take up to several dozens of minutes."
   ]
  },
  {
   "cell_type": "code",
   "execution_count": 17,
   "metadata": {},
   "outputs": [
    {
     "name": "stderr",
     "output_type": "stream",
     "text": [
      "100%|██████████| 3/3 [1:15:33<00:00, 1511.17s/it]"
     ]
    },
    {
     "name": "stdout",
     "output_type": "stream",
     "text": [
      "Execution time: 1511.18 seconds per sample\n",
      "\n",
      "Expected values: [0, 4, 1]\n",
      "Simulated prediction values: [0, 4, 1]\n",
      "FHE prediction values: [0, 4, 1]\n"
     ]
    },
    {
     "name": "stderr",
     "output_type": "stream",
     "text": [
      "\n"
     ]
    }
   ],
   "source": [
    "# Execute the predictions using FHE on a few samples\n",
    "fhe_predictions = run_inference(model, x_test_sample)\n",
    "\n",
    "print(\"Expected values:\", y_test_sample.tolist())\n",
    "print(\"Simulated prediction values:\", simulated_fhe_predictions)\n",
    "print(\"FHE prediction values:\", fhe_predictions)"
   ]
  },
  {
   "cell_type": "code",
   "execution_count": 18,
   "metadata": {},
   "outputs": [
    {
     "data": {
      "image/png": "[encoded data removed]",
      "text/plain": [
       "<Figure size 3000x3000 with 3 Axes>"
      ]
     },
     "metadata": {},
     "output_type": "display_data"
    }
   ],
   "source": [
    "plot_samples(x_test, fhe_predictions, n_samples=n_samples, title=\"Predicted target\")"
   ]
  },
  {
   "cell_type": "code",
   "execution_count": 19,
   "metadata": {},
   "outputs": [
    {
     "name": "stdout",
     "output_type": "stream",
     "text": [
      "Key generation time: 23.18 seconds\n",
      "FHE circuit of 11-bits\n"
     ]
    },
    {
     "name": "stderr",
     "output_type": "stream",
     "text": [
      "100%|██████████| 3/3 [20:48<00:00, 416.16s/it]"
     ]
    },
    {
     "name": "stdout",
     "output_type": "stream",
     "text": [
      "Execution time: 416.16 seconds per sample\n",
      "\n",
      "Expected values:  [0, 4, 1]\n",
      "FHE prediction values: [0, 4, 1]\n"
     ]
    },
    {
     "name": "stderr",
     "output_type": "stream",
     "text": [
      "\n"
     ]
    }
   ],
   "source": [
    "# Choose the model that prunes 50% of neurons\n",
    "pruned_model = pruned_models[6]\n",
    "\n",
    "fhe_circuit = pruned_model.compile(inputset)\n",
    "\n",
    "time_begin = time.time()\n",
    "fhe_circuit.client.keygen(force=True)\n",
    "print(f\"Key generation time: {time.time() - time_begin:.2f} seconds\")\n",
    "\n",
    "# Print the circuit's maximum bit-width reached during compilation\n",
    "print(f\"FHE circuit of {fhe_circuit.graph.maximum_integer_bit_width()}-bits\")\n",
    "\n",
    "# Execute the predictions using FHE on a few samples\n",
    "fhe_predictions = run_inference(pruned_model, x_test_sample)\n",
    "\n",
    "print(\"Expected values: \", y_test_sample.tolist())\n",
    "print(\"FHE prediction values:\", fhe_predictions)"
   ]
  },
  {
   "attachments": {},
   "cell_type": "markdown",
   "metadata": {},
   "source": [
    "## Conclusion\n",
    "\n",
    "In this notebook, we showed how to use a built-in Fully Connected Neural Network classifier on the MNIST data-set using the Concrete-ML library in order to make its inference completely secure.\n",
    "\n",
    "Training, compiling and evaluation such a model is intuitive as our API follows most common Machine Learning APIs. In fact, only a few additional parameters related to quantization are requested, such as `module__n_w_bits`, `module__n_a_bits` or `module__n_accum_bits`. Thanks to the internal implementation of Quantize Aware Training (QAT) techniques, the Concrete-ML `NeuralNetCLassifier` model reached a high accuracy score.\n",
    "\n",
    "As of January 2023, a single FHE execution using the initial model takes about 15 minutes on a [c5.4xlarge AWS EC2 instance](https://docs.aws.amazon.com/AWSEC2/latest/UserGuide/cpu-options-supported-instances-values.html), which uses 8 cores. After pruning, keeping accuracy constant, the execution time is reduced to **5 minutes**. However, this executions time is expected to be improved in future releases.  "
   ]
  }
 ],
 "metadata": {
  "execution": {
   "timeout": 10800
  }
 },
 "nbformat": 4,
 "nbformat_minor": 2
}
