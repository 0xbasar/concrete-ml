{
 "cells": [
  {
   "cell_type": "code",
   "execution_count": 1,
   "id": "310d37ed-d501-4a7d-b01f-68a0c09fd162",
   "metadata": {},
   "outputs": [
    {
     "name": "stdout",
     "output_type": "stream",
     "text": [
      "DETECTED A TLU\n",
      "subgraph_input_shape=(517,)\n",
      "subgraph_inputs.shape=(517,)\n",
      "\n",
      "steps_indexes=array([-125,  -33,   59,  151,  243])\n",
      "delta_axis=array([92, 92, 92, 92])\n",
      "\n",
      "threshold=-125, delta=92\n"
     ]
    },
    {
     "name": "stderr",
     "output_type": "stream",
     "text": [
      "\u001b[33mWARNING: Ignoring invalid distribution -ympy (/Users/luismontero/miniforge3/envs/zama/lib/python3.8/site-packages)\u001b[0m\u001b[33m\n",
      "\u001b[0m"
     ]
    },
    {
     "ename": "AssertionError",
     "evalue": "",
     "output_type": "error",
     "traceback": [
      "\u001b[0;31m---------------------------------------------------------------------------\u001b[0m",
      "\u001b[0;31mAssertionError\u001b[0m                            Traceback (most recent call last)",
      "Cell \u001b[0;32mIn[1], line 85\u001b[0m\n\u001b[1;32m     81\u001b[0m cfg_optim \u001b[38;5;241m=\u001b[39m Configuration(additional_pre_processors\u001b[38;5;241m=\u001b[39mpre_proc_optim)\n\u001b[1;32m     83\u001b[0m f_optim \u001b[38;5;241m=\u001b[39m fhe\u001b[38;5;241m.\u001b[39mcompiler({\u001b[38;5;124m\"\u001b[39m\u001b[38;5;124mx\u001b[39m\u001b[38;5;124m\"\u001b[39m: \u001b[38;5;124m\"\u001b[39m\u001b[38;5;124mencrypted\u001b[39m\u001b[38;5;124m\"\u001b[39m})(f)\n\u001b[0;32m---> 85\u001b[0m circuit_optim \u001b[38;5;241m=\u001b[39m \u001b[43mf_optim\u001b[49m\u001b[38;5;241;43m.\u001b[39;49m\u001b[43mcompile\u001b[49m\u001b[43m(\u001b[49m\u001b[43minputset\u001b[49m\u001b[43m,\u001b[49m\u001b[43m \u001b[49m\u001b[43mconfiguration\u001b[49m\u001b[38;5;241;43m=\u001b[39;49m\u001b[43mcfg_optim\u001b[49m\u001b[43m)\u001b[49m\n\u001b[1;32m     87\u001b[0m optim_res \u001b[38;5;241m=\u001b[39m compute(circuit_optim)\n\u001b[1;32m     89\u001b[0m \u001b[38;5;66;03m# Optim - Res\u001b[39;00m\n",
      "File \u001b[0;32m~/miniforge3/envs/zama/lib/python3.8/site-packages/concrete/fhe/compilation/decorators.py:154\u001b[0m, in \u001b[0;36mCompilable.compile\u001b[0;34m(self, inputset, configuration, artifacts, **kwargs)\u001b[0m\n\u001b[1;32m    126\u001b[0m \u001b[38;5;28;01mdef\u001b[39;00m \u001b[38;5;21mcompile\u001b[39m(\n\u001b[1;32m    127\u001b[0m     \u001b[38;5;28mself\u001b[39m,\n\u001b[1;32m    128\u001b[0m     inputset: Optional[Union[Iterable[Any], Iterable[Tuple[Any, \u001b[38;5;241m.\u001b[39m\u001b[38;5;241m.\u001b[39m\u001b[38;5;241m.\u001b[39m]]]] \u001b[38;5;241m=\u001b[39m \u001b[38;5;28;01mNone\u001b[39;00m,\n\u001b[0;32m   (...)\u001b[0m\n\u001b[1;32m    131\u001b[0m     \u001b[38;5;241m*\u001b[39m\u001b[38;5;241m*\u001b[39mkwargs,\n\u001b[1;32m    132\u001b[0m ) \u001b[38;5;241m-\u001b[39m\u001b[38;5;241m>\u001b[39m Circuit:\n\u001b[1;32m    133\u001b[0m \u001b[38;5;250m    \u001b[39m\u001b[38;5;124;03m\"\"\"\u001b[39;00m\n\u001b[1;32m    134\u001b[0m \u001b[38;5;124;03m    Compile the function into a circuit.\u001b[39;00m\n\u001b[1;32m    135\u001b[0m \n\u001b[0;32m   (...)\u001b[0m\n\u001b[1;32m    151\u001b[0m \u001b[38;5;124;03m            compiled circuit\u001b[39;00m\n\u001b[1;32m    152\u001b[0m \u001b[38;5;124;03m    \"\"\"\u001b[39;00m\n\u001b[0;32m--> 154\u001b[0m     \u001b[38;5;28;01mreturn\u001b[39;00m \u001b[38;5;28;43mself\u001b[39;49m\u001b[38;5;241;43m.\u001b[39;49m\u001b[43mcompiler\u001b[49m\u001b[38;5;241;43m.\u001b[39;49m\u001b[43mcompile\u001b[49m\u001b[43m(\u001b[49m\u001b[43minputset\u001b[49m\u001b[43m,\u001b[49m\u001b[43m \u001b[49m\u001b[43mconfiguration\u001b[49m\u001b[43m,\u001b[49m\u001b[43m \u001b[49m\u001b[43martifacts\u001b[49m\u001b[43m,\u001b[49m\u001b[43m \u001b[49m\u001b[38;5;241;43m*\u001b[39;49m\u001b[38;5;241;43m*\u001b[39;49m\u001b[43mkwargs\u001b[49m\u001b[43m)\u001b[49m\n",
      "File \u001b[0;32m~/miniforge3/envs/zama/lib/python3.8/site-packages/concrete/fhe/compilation/compiler.py:522\u001b[0m, in \u001b[0;36mCompiler.compile\u001b[0;34m(self, inputset, configuration, artifacts, **kwargs)\u001b[0m\n\u001b[1;32m    520\u001b[0m mlir_context \u001b[38;5;241m=\u001b[39m \u001b[38;5;28mself\u001b[39m\u001b[38;5;241m.\u001b[39mcompilation_context\u001b[38;5;241m.\u001b[39mmlir_context()\n\u001b[1;32m    521\u001b[0m \u001b[38;5;66;03m# try:\u001b[39;00m\n\u001b[0;32m--> 522\u001b[0m mlir_module \u001b[38;5;241m=\u001b[39m \u001b[43mGraphConverter\u001b[49m\u001b[43m(\u001b[49m\u001b[38;5;28;43mself\u001b[39;49m\u001b[38;5;241;43m.\u001b[39;49m\u001b[43mconfiguration\u001b[49m\u001b[43m)\u001b[49m\u001b[38;5;241;43m.\u001b[39;49m\u001b[43mconvert\u001b[49m\u001b[43m(\u001b[49m\u001b[38;5;28;43mself\u001b[39;49m\u001b[38;5;241;43m.\u001b[39;49m\u001b[43mgraph\u001b[49m\u001b[43m,\u001b[49m\u001b[43m \u001b[49m\u001b[43mmlir_context\u001b[49m\u001b[43m)\u001b[49m\n\u001b[1;32m    523\u001b[0m \u001b[38;5;66;03m# except Exception as exception:\u001b[39;00m\n\u001b[1;32m    524\u001b[0m \u001b[38;5;66;03m#     raise ValueError(\u001b[39;00m\n\u001b[1;32m    525\u001b[0m \u001b[38;5;66;03m#         \"Something when wrong when converting the following graph:\\n\"\u001b[39;00m\n\u001b[1;32m    526\u001b[0m \u001b[38;5;66;03m#         f\"{self.graph.format()}\"                 \u001b[39;00m\n\u001b[1;32m    527\u001b[0m \u001b[38;5;66;03m#     ) from exception\u001b[39;00m\n\u001b[1;32m    528\u001b[0m \u001b[38;5;66;03m# textual representation of the MLIR module\u001b[39;00m\n\u001b[1;32m    529\u001b[0m mlir_str \u001b[38;5;241m=\u001b[39m \u001b[38;5;28mstr\u001b[39m(mlir_module)\u001b[38;5;241m.\u001b[39mstrip()\n",
      "File \u001b[0;32m~/miniforge3/envs/zama/lib/python3.8/site-packages/concrete/fhe/mlir/converter.py:129\u001b[0m, in \u001b[0;36mConverter.convert\u001b[0;34m(self, graph, mlir_context, name)\u001b[0m\n\u001b[1;32m    105\u001b[0m \u001b[38;5;28;01mdef\u001b[39;00m \u001b[38;5;21mconvert\u001b[39m(\n\u001b[1;32m    106\u001b[0m     \u001b[38;5;28mself\u001b[39m,\n\u001b[1;32m    107\u001b[0m     graph: Graph,\n\u001b[1;32m    108\u001b[0m     mlir_context: MlirContext,\n\u001b[1;32m    109\u001b[0m     name: \u001b[38;5;28mstr\u001b[39m \u001b[38;5;241m=\u001b[39m \u001b[38;5;124m\"\u001b[39m\u001b[38;5;124mmain\u001b[39m\u001b[38;5;124m\"\u001b[39m,\n\u001b[1;32m    110\u001b[0m ) \u001b[38;5;241m-\u001b[39m\u001b[38;5;241m>\u001b[39m MlirModule:\n\u001b[1;32m    111\u001b[0m \u001b[38;5;250m    \u001b[39m\u001b[38;5;124;03m\"\"\"\u001b[39;00m\n\u001b[1;32m    112\u001b[0m \u001b[38;5;124;03m    Convert a computation graph to MLIR.\u001b[39;00m\n\u001b[1;32m    113\u001b[0m \n\u001b[0;32m   (...)\u001b[0m\n\u001b[1;32m    126\u001b[0m \u001b[38;5;124;03m            In-memory MLIR module corresponding to the graph\u001b[39;00m\n\u001b[1;32m    127\u001b[0m \u001b[38;5;124;03m    \"\"\"\u001b[39;00m\n\u001b[0;32m--> 129\u001b[0m     \u001b[38;5;28;01mreturn\u001b[39;00m \u001b[38;5;28;43mself\u001b[39;49m\u001b[38;5;241;43m.\u001b[39;49m\u001b[43mconvert_many\u001b[49m\u001b[43m(\u001b[49m\u001b[43m{\u001b[49m\u001b[43mname\u001b[49m\u001b[43m:\u001b[49m\u001b[43m \u001b[49m\u001b[43mgraph\u001b[49m\u001b[43m}\u001b[49m\u001b[43m,\u001b[49m\u001b[43m \u001b[49m\u001b[43mmlir_context\u001b[49m\u001b[43m)\u001b[49m\n",
      "File \u001b[0;32m~/miniforge3/envs/zama/lib/python3.8/site-packages/concrete/fhe/mlir/converter.py:60\u001b[0m, in \u001b[0;36mConverter.convert_many\u001b[0;34m(self, graphs, mlir_context)\u001b[0m\n\u001b[1;32m     41\u001b[0m \u001b[38;5;28;01mdef\u001b[39;00m \u001b[38;5;21mconvert_many\u001b[39m(\n\u001b[1;32m     42\u001b[0m     \u001b[38;5;28mself\u001b[39m,\n\u001b[1;32m     43\u001b[0m     graphs: Dict[\u001b[38;5;28mstr\u001b[39m, Graph],\n\u001b[1;32m     44\u001b[0m     mlir_context: MlirContext,\n\u001b[1;32m     45\u001b[0m ) \u001b[38;5;241m-\u001b[39m\u001b[38;5;241m>\u001b[39m MlirModule:\n\u001b[1;32m     46\u001b[0m \u001b[38;5;250m    \u001b[39m\u001b[38;5;124;03m\"\"\"\u001b[39;00m\n\u001b[1;32m     47\u001b[0m \u001b[38;5;124;03m    Convert multiple computation graphs to an MLIR module.\u001b[39;00m\n\u001b[1;32m     48\u001b[0m \n\u001b[0;32m   (...)\u001b[0m\n\u001b[1;32m     58\u001b[0m \u001b[38;5;124;03m            In-memory MLIR module corresponding to the graph\u001b[39;00m\n\u001b[1;32m     59\u001b[0m \u001b[38;5;124;03m    \"\"\"\u001b[39;00m\n\u001b[0;32m---> 60\u001b[0m     \u001b[38;5;28;43mself\u001b[39;49m\u001b[38;5;241;43m.\u001b[39;49m\u001b[43mprocess\u001b[49m\u001b[43m(\u001b[49m\u001b[43mgraphs\u001b[49m\u001b[43m)\u001b[49m\n\u001b[1;32m     62\u001b[0m     \u001b[38;5;28;01mwith\u001b[39;00m mlir_context \u001b[38;5;28;01mas\u001b[39;00m context, MlirLocation\u001b[38;5;241m.\u001b[39munknown():\n\u001b[1;32m     63\u001b[0m         concrete\u001b[38;5;241m.\u001b[39mlang\u001b[38;5;241m.\u001b[39mregister_dialects(context)  \u001b[38;5;66;03m# pylint: disable=no-member\u001b[39;00m\n",
      "File \u001b[0;32m~/miniforge3/envs/zama/lib/python3.8/site-packages/concrete/fhe/mlir/converter.py:243\u001b[0m, in \u001b[0;36mConverter.process\u001b[0;34m(self, graphs)\u001b[0m\n\u001b[1;32m    241\u001b[0m \u001b[38;5;28;01melse\u001b[39;00m:\n\u001b[1;32m    242\u001b[0m     \u001b[38;5;28;01mfor\u001b[39;00m graph \u001b[38;5;129;01min\u001b[39;00m graphs\u001b[38;5;241m.\u001b[39mvalues():\n\u001b[0;32m--> 243\u001b[0m         \u001b[43mprocessor\u001b[49m\u001b[38;5;241;43m.\u001b[39;49m\u001b[43mapply\u001b[49m\u001b[43m(\u001b[49m\u001b[43mgraph\u001b[49m\u001b[43m)\u001b[49m\n",
      "File \u001b[0;32m~/Documents/work/zama/concrete-ml-internal/add_automatic_rounding/src/concrete/ml/common/preprocessors.py:1107\u001b[0m, in \u001b[0;36mTLUDeltaBasedOptimizer.apply\u001b[0;34m(self, graph)\u001b[0m\n\u001b[1;32m   1104\u001b[0m \u001b[38;5;28;01mif\u001b[39;00m \u001b[38;5;129;01mnot\u001b[39;00m shape_:\n\u001b[1;32m   1105\u001b[0m     subgraph_inputs, reference \u001b[38;5;241m=\u001b[39m reduce_output_tensor(subgraph_inputs, reference)\n\u001b[0;32m-> 1107\u001b[0m best_a, best_b, n_round \u001b[38;5;241m=\u001b[39m \u001b[43mdelta_optimize\u001b[49m\u001b[43m(\u001b[49m\n\u001b[1;32m   1108\u001b[0m \u001b[43m    \u001b[49m\u001b[43msubgraph_inputs\u001b[49m\u001b[43m,\u001b[49m\n\u001b[1;32m   1109\u001b[0m \u001b[43m    \u001b[49m\u001b[43mreference\u001b[49m\u001b[43m,\u001b[49m\n\u001b[1;32m   1110\u001b[0m \u001b[43m    \u001b[49m\u001b[43mshape_\u001b[49m\u001b[43m,\u001b[49m\n\u001b[1;32m   1111\u001b[0m \u001b[43m    \u001b[49m\u001b[43m(\u001b[49m\u001b[38;5;28;43mint\u001b[39;49m\u001b[43m(\u001b[49m\u001b[43mmin_bound\u001b[49m\u001b[43m)\u001b[49m\u001b[43m,\u001b[49m\u001b[43m \u001b[49m\u001b[38;5;28;43mint\u001b[39;49m\u001b[43m(\u001b[49m\u001b[43mmax_bound\u001b[49m\u001b[43m)\u001b[49m\u001b[43m)\u001b[49m\u001b[43m,\u001b[49m\n\u001b[1;32m   1112\u001b[0m \u001b[43m    \u001b[49m\u001b[43mtlu_subgraph\u001b[49m\u001b[43m,\u001b[49m\n\u001b[1;32m   1113\u001b[0m \u001b[43m    \u001b[49m\u001b[38;5;28;43mself\u001b[39;49m\u001b[38;5;241;43m.\u001b[39;49m\u001b[43minternal_bit_width_target\u001b[49m\u001b[43m,\u001b[49m\n\u001b[1;32m   1114\u001b[0m \u001b[43m\u001b[49m\u001b[43m)\u001b[49m\n\u001b[1;32m   1116\u001b[0m \u001b[38;5;66;03m# For testing purposes we had some properties\u001b[39;00m\n\u001b[1;32m   1117\u001b[0m tlu_node\u001b[38;5;241m.\u001b[39mproperties[\u001b[38;5;124m\"\u001b[39m\u001b[38;5;124mattributes\u001b[39m\u001b[38;5;124m\"\u001b[39m][\u001b[38;5;124m\"\u001b[39m\u001b[38;5;124mopt_round_a\u001b[39m\u001b[38;5;124m\"\u001b[39m] \u001b[38;5;241m=\u001b[39m best_a\n",
      "File \u001b[0;32m~/Documents/work/zama/concrete-ml-internal/add_automatic_rounding/src/concrete/ml/common/preprocessors.py:588\u001b[0m, in \u001b[0;36mdelta_optimize\u001b[0;34m(subgraph_inputs, reference, shape_, bounds, tlu_subgraph, raised_bitwidth, rounding_function)\u001b[0m\n\u001b[1;32m    579\u001b[0m         rounded_output \u001b[38;5;241m=\u001b[39m eval_subgraph_on_rounded_inputs(\n\u001b[1;32m    580\u001b[0m             tlu_subgraph, subgraph_inputs, rounding_function, a, b, lsbs_to_remove\n\u001b[1;32m    581\u001b[0m         )\n\u001b[1;32m    582\u001b[0m         \u001b[38;5;28;01mreturn\u001b[39;00m np\u001b[38;5;241m.\u001b[39msqrt(np\u001b[38;5;241m.\u001b[39msum((rounded_output \u001b[38;5;241m-\u001b[39m reference) \u001b[38;5;241m*\u001b[39m\u001b[38;5;241m*\u001b[39m \u001b[38;5;241m2\u001b[39m))\n\u001b[1;32m    584\u001b[0m     (\n\u001b[1;32m    585\u001b[0m         best_a[best_indexes],\n\u001b[1;32m    586\u001b[0m         best_b[best_indexes],\n\u001b[1;32m    587\u001b[0m         n_rounds[indexes],\n\u001b[0;32m--> 588\u001b[0m     ) \u001b[38;5;241m=\u001b[39m \u001b[43mcompute_best_rounding_for_single_tlu\u001b[49m\u001b[43m(\u001b[49m\n\u001b[1;32m    589\u001b[0m \u001b[43m        \u001b[49m\u001b[43mx_min\u001b[49m\u001b[43m,\u001b[49m\u001b[43m \u001b[49m\u001b[43mx_max\u001b[49m\u001b[43m,\u001b[49m\u001b[43m \u001b[49m\u001b[43msteps_indexes\u001b[49m\u001b[43m,\u001b[49m\u001b[43m \u001b[49m\n\u001b[1;32m    590\u001b[0m \u001b[43m        \u001b[49m\u001b[38;5;66;43;03m# per_tensor_a, \u001b[39;49;00m\n\u001b[1;32m    591\u001b[0m \u001b[43m        \u001b[49m\u001b[43mraised_bitwidth\u001b[49m\u001b[43m,\u001b[49m\u001b[43m \u001b[49m\u001b[43mevaluate_tlu\u001b[49m\n\u001b[1;32m    592\u001b[0m \u001b[43m    \u001b[49m\u001b[43m)\u001b[49m\n\u001b[1;32m    594\u001b[0m     \u001b[38;5;28mprint\u001b[39m(\n\u001b[1;32m    595\u001b[0m         \u001b[38;5;124mf\u001b[39m\u001b[38;5;124m\"\u001b[39m\u001b[38;5;132;01m{\u001b[39;00mbest_a[best_indexes]\u001b[38;5;132;01m=}\u001b[39;00m\u001b[38;5;124m\"\u001b[39m,\n\u001b[1;32m    596\u001b[0m         \u001b[38;5;124mf\u001b[39m\u001b[38;5;124m\"\u001b[39m\u001b[38;5;132;01m{\u001b[39;00mbest_b[best_indexes]\u001b[38;5;132;01m=}\u001b[39;00m\u001b[38;5;124m\"\u001b[39m,\n\u001b[1;32m    597\u001b[0m         \u001b[38;5;124mf\u001b[39m\u001b[38;5;124m\"\u001b[39m\u001b[38;5;132;01m{\u001b[39;00mn_rounds[indexes]\u001b[38;5;132;01m=}\u001b[39;00m\u001b[38;5;124m\"\u001b[39m,\n\u001b[1;32m    598\u001b[0m     )\n\u001b[1;32m    600\u001b[0m \u001b[38;5;66;03m# As rounding can be applied only for the entire tensor,\u001b[39;00m\n\u001b[1;32m    601\u001b[0m \u001b[38;5;66;03m# a single rounding threshold must be found. The smallest\u001b[39;00m\n\u001b[1;32m    602\u001b[0m \u001b[38;5;66;03m# number of lsbs to remove is used. The scaling factor\u001b[39;00m\n\u001b[1;32m    603\u001b[0m \u001b[38;5;66;03m# is chosen for that threshold, while the step\u001b[39;00m\n\u001b[1;32m    604\u001b[0m \u001b[38;5;66;03m# offsets are preserved\u001b[39;00m\n",
      "File \u001b[0;32m~/Documents/work/zama/concrete-ml-internal/add_automatic_rounding/src/concrete/ml/common/preprocessors.py:463\u001b[0m, in \u001b[0;36mcompute_best_rounding_for_single_tlu\u001b[0;34m(x_min, x_max, steps_indexes, target_bitwidth, tlu_evaluation_function)\u001b[0m\n\u001b[1;32m    461\u001b[0m \u001b[38;5;28;01mfor\u001b[39;00m a, b \u001b[38;5;129;01min\u001b[39;00m product(a_, b_):\n\u001b[1;32m    462\u001b[0m     a, b \u001b[38;5;241m=\u001b[39m \u001b[38;5;28mint\u001b[39m(a), \u001b[38;5;28mint\u001b[39m(b)\n\u001b[0;32m--> 463\u001b[0m     \u001b[38;5;28;01massert\u001b[39;00m Integer\u001b[38;5;241m.\u001b[39mthat_can_represent(original_range\u001b[38;5;241m*\u001b[39ma)\u001b[38;5;241m.\u001b[39mbit_width \u001b[38;5;241m==\u001b[39m target_bitwidth\n\u001b[1;32m    464\u001b[0m     scaled_range \u001b[38;5;241m=\u001b[39m (original_range \u001b[38;5;241m*\u001b[39m a ) \u001b[38;5;241m-\u001b[39m b\n\u001b[1;32m    465\u001b[0m     scaled_bitwidth \u001b[38;5;241m=\u001b[39m Integer\u001b[38;5;241m.\u001b[39mthat_can_represent(scaled_range)\u001b[38;5;241m.\u001b[39mbit_width\n",
      "\u001b[0;31mAssertionError\u001b[0m: "
     ]
    }
   ],
   "source": [
    "from concrete.ml.common.preprocessors import TLUDeltaBasedOptimizer, InsertRounding\n",
    "from concrete import fhe\n",
    "import numpy as np\n",
    "import matplotlib.pyplot as plt\n",
    "from concrete.fhe import Configuration, Integer\n",
    "\n",
    "input_range = (-234, 283)\n",
    "\n",
    "inputset = np.arange(input_range[0], input_range[1], dtype=np.int64)\n",
    "integer = Integer.that_can_represent(inputset)\n",
    "full_range = np.arange(integer.min(), integer.max(), dtype=np.int64)\n",
    "\n",
    "# Constant function\n",
    "def f(x):\n",
    "    x = x.astype(np.float64)\n",
    "    x = 0.75 * x - 200\n",
    "    x = x * (x > 0)\n",
    "    x = x // 118\n",
    "    # x = (x + 2.1) / 3.4\n",
    "    x = np.rint(x)\n",
    "    x = x.astype(np.int64)\n",
    "    return x\n",
    "\n",
    "# 2 jumps -> like what we have in CIFAR\n",
    "def f(x):\n",
    "    x = x.astype(np.float64)\n",
    "    x = 0.75 * x + 134.\n",
    "    x = x * (x > 0)\n",
    "    x = x // 118\n",
    "    # x = (x + 2.1) / 3.4\n",
    "    x = np.rint(x)\n",
    "    x = x.astype(np.int64)\n",
    "    return x\n",
    "\n",
    "# 1 jump\n",
    "def f(x):\n",
    "    x = x.astype(np.float64)\n",
    "    x = 0.75 * x + 0.\n",
    "    x = x * (x > 0)\n",
    "    x = x // 118\n",
    "    # x = (x + 2.1) / 3.4\n",
    "    x = np.rint(x)\n",
    "    x = x.astype(np.int64)\n",
    "    return x\n",
    "\n",
    "# 5 jumps\n",
    "def f(x):\n",
    "    x = x.astype(np.float64)\n",
    "    x = 0.75 * x + 163.\n",
    "    x = x * (x > 0)\n",
    "    x = x // 69\n",
    "    # x = (x + 2.1) / 3.4\n",
    "    x = np.rint(x)\n",
    "    x = x.astype(np.int64)\n",
    "    return x\n",
    "\n",
    "# TODO: check with f that has non-constant delta\n",
    "\n",
    "def compute(circuit):\n",
    "    Y = []\n",
    "    X = []\n",
    "    \n",
    "    for x in full_range:\n",
    "        y = circuit.simulate(x)\n",
    "        X.append(x)\n",
    "        Y.append(y)\n",
    "\n",
    "    return np.array(Y)\n",
    "\n",
    "# Naive\n",
    "f_naive = fhe.compiler({\"x\": \"encrypted\"})(f)\n",
    "\n",
    "circuit_naive = f_naive.compile(inputset)\n",
    "\n",
    "naive_res = compute(circuit_naive)\n",
    "\n",
    "# Optim - Approx\n",
    "exactness = fhe.Exactness.APPROXIMATE\n",
    "optim = TLUDeltaBasedOptimizer(overflow_protection=True, exactness=exactness)\n",
    "pre_proc_optim = [optim]\n",
    "cfg_optim = Configuration(additional_pre_processors=pre_proc_optim)\n",
    "\n",
    "f_optim = fhe.compiler({\"x\": \"encrypted\"})(f)\n",
    "\n",
    "circuit_optim = f_optim.compile(inputset, configuration=cfg_optim)\n",
    "\n",
    "optim_res = compute(circuit_optim)\n",
    "\n",
    "# Optim - Res\n",
    "exactness = fhe.Exactness.EXACT\n",
    "optim_exact = TLUDeltaBasedOptimizer(overflow_protection=True, exactness=exactness)\n",
    "pre_proc_optim_exact = [optim_exact]\n",
    "cfg_optim_exact = Configuration(additional_pre_processors=pre_proc_optim_exact)\n",
    "\n",
    "f_optim_exact = fhe.compiler({\"x\": \"encrypted\"})(f)\n",
    "\n",
    "circuit_optim_exact = f_optim_exact.compile(inputset, configuration=cfg_optim_exact)\n",
    "\n",
    "optim_res_exact = compute(circuit_optim_exact)\n",
    "\n",
    "# Round (bit-width-from-optim)\n",
    "n_bits_round = list(optim.statistics.values())[0][\"optimized_bitwidth\"] if optim.statistics else None\n",
    "rounding_from_optim_no_scaling = InsertRounding(n_bits_round, overflow_protection=True)\n",
    "pre_proc_round_from_optim_no_scaling = [rounding_from_optim_no_scaling]\n",
    "cfg_round_from_optim_no_scaling = Configuration(additional_pre_processors=pre_proc_round_from_optim_no_scaling)\n",
    "\n",
    "f_round_from_optim_no_scaling = fhe.compiler({\"x\": \"encrypted\"})(f)\n",
    "\n",
    "circuit_round_from_optim_no_scaling = f_round_from_optim_no_scaling.compile(inputset, configuration=cfg_round_from_optim_no_scaling)\n",
    "\n",
    "round_res_from_optim_no_scaling = compute(circuit_round_from_optim_no_scaling)\n",
    "\n",
    "# Plot\n",
    "fig, ax = plt.subplots()\n",
    "ax.plot(full_range, naive_res,label=\"ground-truth\", linestyle=\"-\")\n",
    "ax.plot(full_range, optim_res,label=\"optim-approx\", linestyle=\"-.\")\n",
    "ax.plot(full_range, optim_res_exact,label=\"optim-exact\", linestyle=\":\")\n",
    "ax.plot(full_range, round_res_from_optim_no_scaling,label=\"round-from-optim\", linestyle=\"-.\")\n",
    "ax.vlines(input_range, np.min(naive_res), np.max(naive_res), color=\"grey\", linestyle=\"--\", label=\"bounds\")\n",
    "plt.legend()\n",
    "\n",
    "# Set the secondary ticks\n",
    "if optim.statistics:\n",
    "    lsbs_to_remove = integer.bit_width - list(optim.statistics.values())[0][\"optimized_bitwidth\"]\n",
    "    rounded_ticks = full_range[np.concatenate(\n",
    "        [\n",
    "             \n",
    "            np.diff(\n",
    "                fhe.round_bit_pattern(full_range, lsbs_to_remove=lsbs_to_remove)\n",
    "            ).astype(bool),\n",
    "            np.array([False,]), \n",
    "        ]\n",
    "    )]\n",
    "    \n",
    "    # Create secondary axes for the top ticks\n",
    "    ax_top = ax.twiny()\n",
    "    ax_top.set_xlim(ax.get_xlim())  # Make sure the secondary axis has the same limits as the primary axis\n",
    "    \n",
    "    # Set the secondary ticks\n",
    "    ax_top.set_xticks(rounded_ticks)\n",
    "    \n",
    "    # Customize appearance of secondary ticks\n",
    "    ax_top.tick_params(which='minor', length=4, color='red')\n",
    "\n",
    "plt.show()"
   ]
  },
  {
   "cell_type": "code",
   "execution_count": null,
   "id": "78ea5ca7-0d73-4bf4-a5e6-fa8bfc4c4d98",
   "metadata": {},
   "outputs": [],
   "source": [
    "raise ValueError()"
   ]
  },
  {
   "cell_type": "code",
   "execution_count": null,
   "id": "6fc42098-eb23-437a-9fd0-0035e331c22a",
   "metadata": {},
   "outputs": [],
   "source": [
    "(naive_res != round_res_from_optim_no_scaling).sum()"
   ]
  },
  {
   "cell_type": "code",
   "execution_count": null,
   "id": "8b0a74f0-09ae-4397-8ea2-c0b97d74cdbc",
   "metadata": {},
   "outputs": [],
   "source": [
    "(naive_res != optim_res_exact).sum()"
   ]
  },
  {
   "cell_type": "code",
   "execution_count": null,
   "id": "9a6cb3c4-efc7-42c3-84f0-2d9a47e4f4ec",
   "metadata": {},
   "outputs": [],
   "source": [
    "# approx vs exact\n",
    "(optim_res != optim_res_exact)[inputset].sum()"
   ]
  },
  {
   "cell_type": "code",
   "execution_count": null,
   "id": "d128649e-9646-453e-8575-929931bbfb82",
   "metadata": {},
   "outputs": [],
   "source": [
    "# Ground truth vs Optimized\n",
    "(naive_res != optim_res)[inputset].sum()"
   ]
  },
  {
   "cell_type": "code",
   "execution_count": null,
   "id": "5b47eded-af80-4ce7-9a21-bf8cfa1ec697",
   "metadata": {},
   "outputs": [],
   "source": [
    "# Ground truth vs Just rounded\n",
    "(naive_res != round_res_from_optim_no_scaling)[inputset].sum()"
   ]
  },
  {
   "cell_type": "code",
   "execution_count": null,
   "id": "043c5f95-b174-4010-8466-dfd84caf160a",
   "metadata": {},
   "outputs": [],
   "source": []
  },
  {
   "cell_type": "code",
   "execution_count": null,
   "id": "10a1c4b7-d1ec-4f98-9959-41b1519eba0d",
   "metadata": {},
   "outputs": [],
   "source": [
    "deltas = [92,  92*2]"
   ]
  },
  {
   "cell_type": "code",
   "execution_count": null,
   "id": "830d8e45-71de-41d2-b0ab-3d4d1f42fc46",
   "metadata": {},
   "outputs": [],
   "source": [
    "for index in range(len(deltas)):\n",
    "    print(deltas[index], (fhe.truncate_bit_pattern((deltas[index] * 713) - 1, lsbs_to_remove=16) + 1) / 713, (((deltas[index] * 713) - 1) + 1) / 713)\n",
    "# We should probably add some rounding in the TLU itself too\n",
    "# also the value that we use in the TLU can be float -> check that we actually do everything after the casting as float"
   ]
  },
  {
   "cell_type": "code",
   "execution_count": null,
   "id": "643679f6-5b7b-4d58-b381-8a008963df2c",
   "metadata": {},
   "outputs": [],
   "source": [
    "optimized_repr = []\n",
    "for x in inputset:\n",
    "    optimized_repr.append((fhe.round_bit_pattern(((x * 713) - 1), lsbs_to_remove=16) + 1) / 713)\n",
    "plt.plot(inputset, optimized_repr)"
   ]
  },
  {
   "cell_type": "code",
   "execution_count": null,
   "id": "b846260e-8f15-48f7-9801-dc5944776712",
   "metadata": {},
   "outputs": [],
   "source": [
    "x = np.arange(-16, 16)\n",
    "def f(x, thresholds=((9, 1), (14, 1),)):\n",
    "    res = np.zeros(x.shape)\n",
    "    for threshold, value in thresholds:\n",
    "        res += (x >= threshold) * value\n",
    "    return res\n",
    "y = f(x)\n",
    "x_star = fhe.round_bit_pattern(x, 2)\n",
    "y_star = f(x_star)\n",
    "plt.plot(x,y, label=\"baseline\")\n",
    "plt.plot(x, y_star, label=\"removing 2 bits\")\n",
    "plt.legend()"
   ]
  },
  {
   "cell_type": "code",
   "execution_count": null,
   "id": "bc392f64-9276-40d9-9e43-380ed93b9343",
   "metadata": {},
   "outputs": [],
   "source": [
    "thresholds = x[np.concatenate([[False,], np.diff(y).astype(bool)])]\n",
    "thresholds"
   ]
  },
  {
   "cell_type": "code",
   "execution_count": null,
   "id": "0c0e34be-ef22-4978-903b-f549e01fdbb6",
   "metadata": {},
   "outputs": [],
   "source": [
    "deltas = np.diff(thresholds)\n",
    "deltas"
   ]
  },
  {
   "cell_type": "code",
   "execution_count": null,
   "id": "a5d75ab4-3a42-448d-8223-fb16227aa53c",
   "metadata": {},
   "outputs": [],
   "source": [
    "x_min, x_max = np.min(x), np.max(x)\n",
    "x_min, x_max"
   ]
  },
  {
   "cell_type": "code",
   "execution_count": null,
   "id": "6d22e146-8f75-41f8-b3a1-6f79fcc5b63a",
   "metadata": {},
   "outputs": [],
   "source": [
    "for delta in deltas:\n",
    "    print(f\"{x_min=}, {x_max=}, {delta=} requires {np.ceil(np.log2(np.ceil((x_max - x_min)/delta))).astype(np.int32)} bits\")"
   ]
  },
  {
   "cell_type": "code",
   "execution_count": null,
   "id": "378c7400-2149-4f7a-ac57-7d00a9e0dce9",
   "metadata": {},
   "outputs": [],
   "source": [
    "base_integer_repr = fhe.Integer.that_can_represent([x_min, x_max])\n",
    "base_integer_repr.bit_width"
   ]
  },
  {
   "cell_type": "code",
   "execution_count": null,
   "id": "2911ae46-5102-4cea-b31a-57e75b34f3da",
   "metadata": {},
   "outputs": [],
   "source": [
    "tlu_bit_width_target = np.ceil(np.log2(np.ceil((x_max - x_min)/deltas[0]))).astype(np.int32)\n",
    "print(tlu_bit_width_target)"
   ]
  },
  {
   "cell_type": "code",
   "execution_count": null,
   "id": "4eab5bef-cd73-4098-a457-6697864ef6d6",
   "metadata": {},
   "outputs": [],
   "source": [
    "mse_to_beat = np.sum((y - y_star)**2)\n",
    "plt.plot(x,y, label=\"baseline\")\n",
    "plt.plot(x, y_star, label=\"removing 2 bits\")\n",
    "solution_found = False\n",
    "for a in range(1, 1024):\n",
    "    for b in range(1024):\n",
    "        pre_tlu_x = (x*a)-b\n",
    "        new_repr = Integer.that_can_represent([pre_tlu_x.min(), pre_tlu_x.max()])\n",
    "        lsbs_to_remove = new_repr.bit_width - 3\n",
    "        y_starstar = f((fhe.round_bit_pattern(pre_tlu_x, lsbs_to_remove)+b)/a)\n",
    "        mse = np.sum((y - y_starstar)**2)\n",
    "        if mse < mse_to_beat:\n",
    "            print(\"beats mse\", a, b)\n",
    "        if np.all(y == y_starstar):\n",
    "            print(\"exact match\", a, b, new_repr.bit_width)\n",
    "            plt.plot(x, y_starstar)\n",
    "            solution_found = True\n",
    "        if solution_found:\n",
    "            break\n",
    "    if solution_found:\n",
    "        break"
   ]
  },
  {
   "cell_type": "code",
   "execution_count": null,
   "id": "ad64fa8a-82c2-4a8f-ad8d-759910bb8c30",
   "metadata": {},
   "outputs": [],
   "source": [
    "mse_to_beat = np.sum((y - y_star)**2)\n",
    "plt.figure()\n",
    "solution_found = False\n",
    "mses = []\n",
    "for a in [3]:  # Fixed known solution a\n",
    "    for b in range(-1024, 1024):\n",
    "        pre_tlu_x = (x*a)-b\n",
    "        new_repr = Integer.that_can_represent([pre_tlu_x.min(), pre_tlu_x.max()])\n",
    "        lsbs_to_remove = new_repr.bit_width - 3  # Target 3-bit LUT\n",
    "        y_starstar = f((fhe.round_bit_pattern(pre_tlu_x, lsbs_to_remove)+b)/a)\n",
    "\n",
    "        mse = np.sum((y - y_starstar)**2)\n",
    "        mses.append(mse)\n",
    "        if mse < mse_to_beat:\n",
    "            print(\"beats mse\", a, b)\n",
    "        if np.all(y == y_starstar):\n",
    "            print(\"exact match\", a, b, new_repr.bit_width)\n",
    "            solution_found = True\n",
    "\n",
    "plt.plot(mses)"
   ]
  },
  {
   "cell_type": "code",
   "execution_count": null,
   "id": "dd87ea9f-bba7-4129-b288-a32c005ddbea",
   "metadata": {},
   "outputs": [],
   "source": []
  },
  {
   "cell_type": "code",
   "execution_count": null,
   "id": "676f5eb6-dd71-43f6-bb2b-83571fc76326",
   "metadata": {},
   "outputs": [],
   "source": [
    "mse_to_beat = np.sum((y - y_star)**2)\n",
    "solution_found = False\n",
    "mses = []\n",
    "plt.figure()\n",
    "for a in range(1, 1024):\n",
    "    for b in [1]:  # Fixed known solution b (b==3 works too)\n",
    "        pre_tlu_x = (x*a)-b\n",
    "        new_repr = Integer.that_can_represent([pre_tlu_x.min(), pre_tlu_x.max()])\n",
    "        lsbs_to_remove = new_repr.bit_width - 3  # Target 3-bit LUT\n",
    "        y_starstar = f((fhe.round_bit_pattern(pre_tlu_x, lsbs_to_remove)+b)/a)\n",
    "\n",
    "        mse = np.sum((y - y_starstar)**2)\n",
    "        mses.append(mse)\n",
    "        if mse < mse_to_beat:\n",
    "            print(\"beats mse\", a, b)\n",
    "        if np.all(y == y_starstar):\n",
    "            print(\"exact match\", a, b, new_repr.bit_width)\n",
    "            solution_found = True\n",
    "\n",
    "plt.plot(mses)"
   ]
  },
  {
   "cell_type": "code",
   "execution_count": null,
   "id": "aa5d261e-6d89-46d1-9fea-8e4599e82c40",
   "metadata": {},
   "outputs": [],
   "source": []
  },
  {
   "cell_type": "code",
   "execution_count": null,
   "id": "efa0deb4-76f3-46ff-84ee-2ba0b3a9ea93",
   "metadata": {},
   "outputs": [],
   "source": []
  },
  {
   "cell_type": "code",
   "execution_count": null,
   "id": "34b157be-a3c6-4363-b5d0-7c2498b79ea6",
   "metadata": {},
   "outputs": [],
   "source": []
  }
 ],
 "metadata": {
  "kernelspec": {
   "display_name": "Python 3 (ipykernel)",
   "language": "python",
   "name": "python3"
  },
  "language_info": {
   "codemirror_mode": {
    "name": "ipython",
    "version": 3
   },
   "file_extension": ".py",
   "mimetype": "text/x-python",
   "name": "python",
   "nbconvert_exporter": "python",
   "pygments_lexer": "ipython3",
   "version": "3.8.13"
  }
 },
 "nbformat": 4,
 "nbformat_minor": 5
}
